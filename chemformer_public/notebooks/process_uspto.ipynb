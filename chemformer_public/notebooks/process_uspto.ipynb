{
 "cells": [
  {
   "cell_type": "code",
   "execution_count": 1,
   "metadata": {},
   "outputs": [
    {
     "name": "stdout",
     "output_type": "stream",
     "text": [
      "LKJ\n"
     ]
    }
   ],
   "source": [
    "print(\"LKJ\")"
   ]
  },
  {
   "cell_type": "code",
   "execution_count": 2,
   "metadata": {},
   "outputs": [],
   "source": [
    "import re\n",
    "import pandas as pd\n",
    "from rdkit import Chem\n",
    "from pathlib import Path\n",
    "from concurrent.futures import ThreadPoolExecutor"
   ]
  },
  {
   "cell_type": "code",
   "execution_count": 3,
   "metadata": {},
   "outputs": [],
   "source": [
    "USPTO_MIXED_PATH = \"/projects/cc/knlr326/1_NMR_project/1_NMR_data_AZ/1_old_models/Chemformer/data/seq-to-seq_datasets/MIT_mixed\"\n",
    "USPTO_SEP_PATH = \"/projects/cc/knlr326/1_NMR_project/1_NMR_data_AZ/1_old_models/Chemformer/data/seq-to-seq_datasets/MIT_separated\"\n",
    "USPTO_50_PATH = \"/projects/cc/knlr326/1_NMR_project/1_NMR_data_AZ/1_old_models/Chemformer/data/seq-to-seq_datasets/uspto_50\""
   ]
  },
  {
   "cell_type": "code",
   "execution_count": 4,
   "metadata": {},
   "outputs": [],
   "source": [
    "USPTO_MIXED_PICKLE_PATH = \"/projects/cc/knlr326/1_NMR_project/1_NMR_data_AZ/1_old_models/Chemformer/data/seq-to-seq_datasets/uspto_mixed.pickle\"\n",
    "USPTO_SEP_PICKLE_PATH = \"/projects/cc/knlr326/1_NMR_project/1_NMR_data_AZ/1_old_models/Chemformer/data/seq-to-seq_datasets/uspto_sep.pickle\"\n",
    "USPTO_50_PICKLE_PATH = \"/projects/cc/knlr326/1_NMR_project/1_NMR_data_AZ/1_old_models/Chemformer/data/seq-to-seq_datasets/uspto_50.pickle\""
   ]
  },
  {
   "cell_type": "code",
   "execution_count": 5,
   "metadata": {},
   "outputs": [],
   "source": [
    "# **********************\n",
    "# *** Util Functions ***\n",
    "# **********************"
   ]
  },
  {
   "cell_type": "code",
   "execution_count": 6,
   "metadata": {},
   "outputs": [],
   "source": [
    "def remove_whitespace(path):\n",
    "    text = path.read_text()\n",
    "    lines = [line for line in text.split(\"\\n\") if line is not None and line != \"\"]\n",
    "    mol_strs = [line.replace(\" \", \"\") for line in lines]\n",
    "    return mol_strs"
   ]
  },
  {
   "cell_type": "code",
   "execution_count": 7,
   "metadata": {},
   "outputs": [],
   "source": [
    "def create_mols(mol_strs):\n",
    "    executor = ThreadPoolExecutor()\n",
    "    futures = [executor.submit(Chem.MolFromSmiles, mol_str) for mol_str in mol_strs]\n",
    "    mols = [future.result() for future in futures]\n",
    "    err_strs = [mol_strs[i] for i, mol in enumerate(mols) if mol is None]\n",
    "\n",
    "    if len(err_strs) > 0:\n",
    "        print(\"Could not construct mols for the following strings:\")\n",
    "        for err_str in err_strs:\n",
    "            print(err_str)\n",
    "\n",
    "    return mols"
   ]
  },
  {
   "cell_type": "code",
   "execution_count": 8,
   "metadata": {},
   "outputs": [],
   "source": [
    "def create_mols_sep(mol_strs):\n",
    "    def process_mol_str(mol_str):\n",
    "        splits = mol_str.split(\">\")\n",
    "        if len(splits) != 2:\n",
    "            raise ValueError(f\"Error with mol str: {mol_str}\")\n",
    "\n",
    "        reactants, reagents = tuple(splits)\n",
    "        react_mol = Chem.MolFromSmiles(reactants)\n",
    "        reag_mol = Chem.MolFromSmiles(reagents)\n",
    "        return react_mol, reag_mol\n",
    "\n",
    "    executor = ThreadPoolExecutor()\n",
    "    futures = [executor.submit(process_mol_str, mol_str) for mol_str in mol_strs]\n",
    "    mols = [future.result() for future in futures]\n",
    "    err_strs = [mol_strs[i] for i, (react, reag) in enumerate(mols) if react is None or reag is None]\n",
    "\n",
    "    if len(err_strs) > 0:\n",
    "        print(\"Could not construct mols for the following strings:\")\n",
    "        for err_str in err_strs:\n",
    "            print(err_str)\n",
    "\n",
    "    react_mols, reag_mols = tuple(zip(*mols))\n",
    "    return react_mols, reag_mols"
   ]
  },
  {
   "cell_type": "code",
   "execution_count": 9,
   "metadata": {},
   "outputs": [],
   "source": [
    "def load_mols(path, sep=False, uspto_50=False):\n",
    "    mol_strs = remove_whitespace(path)\n",
    "\n",
    "    if uspto_50:\n",
    "        new_mol_strs = []\n",
    "        reaction_types = []\n",
    "        prog = re.compile(\"(<RX_6>|<RX_2>|<RX_1>|<RX_3>|<RX_7>|<RX_9>|<RX_5>|<RX_10>|<RX_4>|<RX_8>)\")\n",
    "\n",
    "        for mol_str in mol_strs:\n",
    "            new_str = prog.sub(\"\", mol_str)\n",
    "            reaction_type = prog.match(mol_str)\n",
    "            reaction_type = reaction_type[0] if reaction_type is not None else None\n",
    "            new_mol_strs.append(new_str)\n",
    "            reaction_types.append(reaction_type)\n",
    "\n",
    "        mol_strs = new_mol_strs\n",
    "\n",
    "    if sep:\n",
    "        react_mols, reag_mols = create_mols_sep(mol_strs)\n",
    "        return react_mols, reag_mols\n",
    "\n",
    "    mols = create_mols(mol_strs)\n",
    "    if uspto_50:\n",
    "        return mols, reaction_types\n",
    "\n",
    "    return mols"
   ]
  },
  {
   "cell_type": "code",
   "execution_count": 10,
   "metadata": {},
   "outputs": [],
   "source": [
    "def build_df(reacts, prods, set_name, reags=None, reaction_types=None):\n",
    "    data = {\"reactants_mol\": reacts, \"products_mol\": prods}\n",
    "    if reags is not None:\n",
    "        data[\"reagents_mol\"] = reags\n",
    "    if reaction_types is not None:\n",
    "        data[\"reaction_type\"] = reaction_types\n",
    "\n",
    "    df = pd.DataFrame(data=data)\n",
    "    df[\"set\"] = set_name\n",
    "    return df"
   ]
  },
  {
   "cell_type": "code",
   "execution_count": 11,
   "metadata": {},
   "outputs": [],
   "source": [
    "# ************************\n",
    "# *** Process Datasets ***\n",
    "# ************************"
   ]
  },
  {
   "cell_type": "code",
   "execution_count": 12,
   "metadata": {},
   "outputs": [],
   "source": [
    "def process_uspto_mixed_dataset(path):\n",
    "    train_reacts = load_mols(path / \"src-train.txt\")\n",
    "    train_prods = load_mols(path / \"tgt-train.txt\")\n",
    "    train_df = build_df(train_reacts, train_prods, \"train\")\n",
    "\n",
    "    val_reacts = load_mols(path / \"src-val.txt\")\n",
    "    val_prods = load_mols(path / \"tgt-val.txt\")\n",
    "    val_df = build_df(val_reacts, val_prods, \"valid\")\n",
    "\n",
    "    test_reacts = load_mols(path / \"src-test.txt\")\n",
    "    test_prods = load_mols(path / \"tgt-test.txt\")\n",
    "    test_df = build_df(test_reacts, test_prods, \"test\")\n",
    "\n",
    "    dataset_df = pd.concat([train_df, val_df, test_df], ignore_index=True)\n",
    "    return dataset_df"
   ]
  },
  {
   "cell_type": "code",
   "execution_count": 13,
   "metadata": {
    "collapsed": true,
    "jupyter": {
     "outputs_hidden": true
    },
    "tags": []
   },
   "outputs": [
    {
     "ename": "FileNotFoundError",
     "evalue": "[Errno 2] No such file or directory: '/projects/cc/knlr326/1_NMR_project/1_NMR_data_AZ/1_old_models/Chemformer/data/seq-to-seq_datasets/MIT_mixed/src-train.txt'",
     "output_type": "error",
     "traceback": [
      "\u001b[0;31m---------------------------------------------------------------------------\u001b[0m",
      "\u001b[0;31mFileNotFoundError\u001b[0m                         Traceback (most recent call last)",
      "\u001b[0;32m/wscratch/knlr326/ipykernel_24349/3801960889.py\u001b[0m in \u001b[0;36m<module>\u001b[0;34m\u001b[0m\n\u001b[1;32m      1\u001b[0m \u001b[0;31m# Process USPTO Mixed dataset\u001b[0m\u001b[0;34m\u001b[0m\u001b[0;34m\u001b[0m\u001b[0;34m\u001b[0m\u001b[0m\n\u001b[1;32m      2\u001b[0m \u001b[0muspto_mixed_path\u001b[0m \u001b[0;34m=\u001b[0m \u001b[0mPath\u001b[0m\u001b[0;34m(\u001b[0m\u001b[0mUSPTO_MIXED_PATH\u001b[0m\u001b[0;34m)\u001b[0m\u001b[0;34m\u001b[0m\u001b[0;34m\u001b[0m\u001b[0m\n\u001b[0;32m----> 3\u001b[0;31m \u001b[0muspto_mixed_df\u001b[0m \u001b[0;34m=\u001b[0m \u001b[0mprocess_uspto_mixed_dataset\u001b[0m\u001b[0;34m(\u001b[0m\u001b[0muspto_mixed_path\u001b[0m\u001b[0;34m)\u001b[0m\u001b[0;34m\u001b[0m\u001b[0;34m\u001b[0m\u001b[0m\n\u001b[0m\u001b[1;32m      4\u001b[0m \u001b[0mprint\u001b[0m\u001b[0;34m(\u001b[0m\u001b[0;34mf\"Read {str(len(uspto_mixed_df.index))} rows from USPTO Mixed dataset.\"\u001b[0m\u001b[0;34m)\u001b[0m\u001b[0;34m\u001b[0m\u001b[0;34m\u001b[0m\u001b[0m\n",
      "\u001b[0;32m/wscratch/knlr326/ipykernel_24349/4036530339.py\u001b[0m in \u001b[0;36mprocess_uspto_mixed_dataset\u001b[0;34m(path)\u001b[0m\n\u001b[1;32m      1\u001b[0m \u001b[0;32mdef\u001b[0m \u001b[0mprocess_uspto_mixed_dataset\u001b[0m\u001b[0;34m(\u001b[0m\u001b[0mpath\u001b[0m\u001b[0;34m)\u001b[0m\u001b[0;34m:\u001b[0m\u001b[0;34m\u001b[0m\u001b[0;34m\u001b[0m\u001b[0m\n\u001b[0;32m----> 2\u001b[0;31m     \u001b[0mtrain_reacts\u001b[0m \u001b[0;34m=\u001b[0m \u001b[0mload_mols\u001b[0m\u001b[0;34m(\u001b[0m\u001b[0mpath\u001b[0m \u001b[0;34m/\u001b[0m \u001b[0;34m\"src-train.txt\"\u001b[0m\u001b[0;34m)\u001b[0m\u001b[0;34m\u001b[0m\u001b[0;34m\u001b[0m\u001b[0m\n\u001b[0m\u001b[1;32m      3\u001b[0m     \u001b[0mtrain_prods\u001b[0m \u001b[0;34m=\u001b[0m \u001b[0mload_mols\u001b[0m\u001b[0;34m(\u001b[0m\u001b[0mpath\u001b[0m \u001b[0;34m/\u001b[0m \u001b[0;34m\"tgt-train.txt\"\u001b[0m\u001b[0;34m)\u001b[0m\u001b[0;34m\u001b[0m\u001b[0;34m\u001b[0m\u001b[0m\n\u001b[1;32m      4\u001b[0m     \u001b[0mtrain_df\u001b[0m \u001b[0;34m=\u001b[0m \u001b[0mbuild_df\u001b[0m\u001b[0;34m(\u001b[0m\u001b[0mtrain_reacts\u001b[0m\u001b[0;34m,\u001b[0m \u001b[0mtrain_prods\u001b[0m\u001b[0;34m,\u001b[0m \u001b[0;34m\"train\"\u001b[0m\u001b[0;34m)\u001b[0m\u001b[0;34m\u001b[0m\u001b[0;34m\u001b[0m\u001b[0m\n\u001b[1;32m      5\u001b[0m \u001b[0;34m\u001b[0m\u001b[0m\n",
      "\u001b[0;32m/wscratch/knlr326/ipykernel_24349/3733054395.py\u001b[0m in \u001b[0;36mload_mols\u001b[0;34m(path, sep, uspto_50)\u001b[0m\n\u001b[1;32m      1\u001b[0m \u001b[0;32mdef\u001b[0m \u001b[0mload_mols\u001b[0m\u001b[0;34m(\u001b[0m\u001b[0mpath\u001b[0m\u001b[0;34m,\u001b[0m \u001b[0msep\u001b[0m\u001b[0;34m=\u001b[0m\u001b[0;32mFalse\u001b[0m\u001b[0;34m,\u001b[0m \u001b[0muspto_50\u001b[0m\u001b[0;34m=\u001b[0m\u001b[0;32mFalse\u001b[0m\u001b[0;34m)\u001b[0m\u001b[0;34m:\u001b[0m\u001b[0;34m\u001b[0m\u001b[0;34m\u001b[0m\u001b[0m\n\u001b[0;32m----> 2\u001b[0;31m     \u001b[0mmol_strs\u001b[0m \u001b[0;34m=\u001b[0m \u001b[0mremove_whitespace\u001b[0m\u001b[0;34m(\u001b[0m\u001b[0mpath\u001b[0m\u001b[0;34m)\u001b[0m\u001b[0;34m\u001b[0m\u001b[0;34m\u001b[0m\u001b[0m\n\u001b[0m\u001b[1;32m      3\u001b[0m \u001b[0;34m\u001b[0m\u001b[0m\n\u001b[1;32m      4\u001b[0m     \u001b[0;32mif\u001b[0m \u001b[0muspto_50\u001b[0m\u001b[0;34m:\u001b[0m\u001b[0;34m\u001b[0m\u001b[0;34m\u001b[0m\u001b[0m\n\u001b[1;32m      5\u001b[0m         \u001b[0mnew_mol_strs\u001b[0m \u001b[0;34m=\u001b[0m \u001b[0;34m[\u001b[0m\u001b[0;34m]\u001b[0m\u001b[0;34m\u001b[0m\u001b[0;34m\u001b[0m\u001b[0m\n",
      "\u001b[0;32m/wscratch/knlr326/ipykernel_24349/1804271416.py\u001b[0m in \u001b[0;36mremove_whitespace\u001b[0;34m(path)\u001b[0m\n\u001b[1;32m      1\u001b[0m \u001b[0;32mdef\u001b[0m \u001b[0mremove_whitespace\u001b[0m\u001b[0;34m(\u001b[0m\u001b[0mpath\u001b[0m\u001b[0;34m)\u001b[0m\u001b[0;34m:\u001b[0m\u001b[0;34m\u001b[0m\u001b[0;34m\u001b[0m\u001b[0m\n\u001b[0;32m----> 2\u001b[0;31m     \u001b[0mtext\u001b[0m \u001b[0;34m=\u001b[0m \u001b[0mpath\u001b[0m\u001b[0;34m.\u001b[0m\u001b[0mread_text\u001b[0m\u001b[0;34m(\u001b[0m\u001b[0;34m)\u001b[0m\u001b[0;34m\u001b[0m\u001b[0;34m\u001b[0m\u001b[0m\n\u001b[0m\u001b[1;32m      3\u001b[0m     \u001b[0mlines\u001b[0m \u001b[0;34m=\u001b[0m \u001b[0;34m[\u001b[0m\u001b[0mline\u001b[0m \u001b[0;32mfor\u001b[0m \u001b[0mline\u001b[0m \u001b[0;32min\u001b[0m \u001b[0mtext\u001b[0m\u001b[0;34m.\u001b[0m\u001b[0msplit\u001b[0m\u001b[0;34m(\u001b[0m\u001b[0;34m\"\\n\"\u001b[0m\u001b[0;34m)\u001b[0m \u001b[0;32mif\u001b[0m \u001b[0mline\u001b[0m \u001b[0;32mis\u001b[0m \u001b[0;32mnot\u001b[0m \u001b[0;32mNone\u001b[0m \u001b[0;32mand\u001b[0m \u001b[0mline\u001b[0m \u001b[0;34m!=\u001b[0m \u001b[0;34m\"\"\u001b[0m\u001b[0;34m]\u001b[0m\u001b[0;34m\u001b[0m\u001b[0;34m\u001b[0m\u001b[0m\n\u001b[1;32m      4\u001b[0m     \u001b[0mmol_strs\u001b[0m \u001b[0;34m=\u001b[0m \u001b[0;34m[\u001b[0m\u001b[0mline\u001b[0m\u001b[0;34m.\u001b[0m\u001b[0mreplace\u001b[0m\u001b[0;34m(\u001b[0m\u001b[0;34m\" \"\u001b[0m\u001b[0;34m,\u001b[0m \u001b[0;34m\"\"\u001b[0m\u001b[0;34m)\u001b[0m \u001b[0;32mfor\u001b[0m \u001b[0mline\u001b[0m \u001b[0;32min\u001b[0m \u001b[0mlines\u001b[0m\u001b[0;34m]\u001b[0m\u001b[0;34m\u001b[0m\u001b[0;34m\u001b[0m\u001b[0m\n\u001b[1;32m      5\u001b[0m     \u001b[0;32mreturn\u001b[0m \u001b[0mmol_strs\u001b[0m\u001b[0;34m\u001b[0m\u001b[0;34m\u001b[0m\u001b[0m\n",
      "\u001b[0;32m/projects/cc/knlr326/miniconda_all/envs/NMR_Structure_Elucidator/lib/python3.7/pathlib.py\u001b[0m in \u001b[0;36mread_text\u001b[0;34m(self, encoding, errors)\u001b[0m\n\u001b[1;32m   1214\u001b[0m         \u001b[0mOpen\u001b[0m \u001b[0mthe\u001b[0m \u001b[0mfile\u001b[0m \u001b[0;32min\u001b[0m \u001b[0mtext\u001b[0m \u001b[0mmode\u001b[0m\u001b[0;34m,\u001b[0m \u001b[0mread\u001b[0m \u001b[0mit\u001b[0m\u001b[0;34m,\u001b[0m \u001b[0;32mand\u001b[0m \u001b[0mclose\u001b[0m \u001b[0mthe\u001b[0m \u001b[0mfile\u001b[0m\u001b[0;34m.\u001b[0m\u001b[0;34m\u001b[0m\u001b[0;34m\u001b[0m\u001b[0m\n\u001b[1;32m   1215\u001b[0m         \"\"\"\n\u001b[0;32m-> 1216\u001b[0;31m         \u001b[0;32mwith\u001b[0m \u001b[0mself\u001b[0m\u001b[0;34m.\u001b[0m\u001b[0mopen\u001b[0m\u001b[0;34m(\u001b[0m\u001b[0mmode\u001b[0m\u001b[0;34m=\u001b[0m\u001b[0;34m'r'\u001b[0m\u001b[0;34m,\u001b[0m \u001b[0mencoding\u001b[0m\u001b[0;34m=\u001b[0m\u001b[0mencoding\u001b[0m\u001b[0;34m,\u001b[0m \u001b[0merrors\u001b[0m\u001b[0;34m=\u001b[0m\u001b[0merrors\u001b[0m\u001b[0;34m)\u001b[0m \u001b[0;32mas\u001b[0m \u001b[0mf\u001b[0m\u001b[0;34m:\u001b[0m\u001b[0;34m\u001b[0m\u001b[0;34m\u001b[0m\u001b[0m\n\u001b[0m\u001b[1;32m   1217\u001b[0m             \u001b[0;32mreturn\u001b[0m \u001b[0mf\u001b[0m\u001b[0;34m.\u001b[0m\u001b[0mread\u001b[0m\u001b[0;34m(\u001b[0m\u001b[0;34m)\u001b[0m\u001b[0;34m\u001b[0m\u001b[0;34m\u001b[0m\u001b[0m\n\u001b[1;32m   1218\u001b[0m \u001b[0;34m\u001b[0m\u001b[0m\n",
      "\u001b[0;32m/projects/cc/knlr326/miniconda_all/envs/NMR_Structure_Elucidator/lib/python3.7/pathlib.py\u001b[0m in \u001b[0;36mopen\u001b[0;34m(self, mode, buffering, encoding, errors, newline)\u001b[0m\n\u001b[1;32m   1201\u001b[0m             \u001b[0mself\u001b[0m\u001b[0;34m.\u001b[0m\u001b[0m_raise_closed\u001b[0m\u001b[0;34m(\u001b[0m\u001b[0;34m)\u001b[0m\u001b[0;34m\u001b[0m\u001b[0;34m\u001b[0m\u001b[0m\n\u001b[1;32m   1202\u001b[0m         return io.open(self, mode, buffering, encoding, errors, newline,\n\u001b[0;32m-> 1203\u001b[0;31m                        opener=self._opener)\n\u001b[0m\u001b[1;32m   1204\u001b[0m \u001b[0;34m\u001b[0m\u001b[0m\n\u001b[1;32m   1205\u001b[0m     \u001b[0;32mdef\u001b[0m \u001b[0mread_bytes\u001b[0m\u001b[0;34m(\u001b[0m\u001b[0mself\u001b[0m\u001b[0;34m)\u001b[0m\u001b[0;34m:\u001b[0m\u001b[0;34m\u001b[0m\u001b[0;34m\u001b[0m\u001b[0m\n",
      "\u001b[0;32m/projects/cc/knlr326/miniconda_all/envs/NMR_Structure_Elucidator/lib/python3.7/pathlib.py\u001b[0m in \u001b[0;36m_opener\u001b[0;34m(self, name, flags, mode)\u001b[0m\n\u001b[1;32m   1056\u001b[0m     \u001b[0;32mdef\u001b[0m \u001b[0m_opener\u001b[0m\u001b[0;34m(\u001b[0m\u001b[0mself\u001b[0m\u001b[0;34m,\u001b[0m \u001b[0mname\u001b[0m\u001b[0;34m,\u001b[0m \u001b[0mflags\u001b[0m\u001b[0;34m,\u001b[0m \u001b[0mmode\u001b[0m\u001b[0;34m=\u001b[0m\u001b[0;36m0o666\u001b[0m\u001b[0;34m)\u001b[0m\u001b[0;34m:\u001b[0m\u001b[0;34m\u001b[0m\u001b[0;34m\u001b[0m\u001b[0m\n\u001b[1;32m   1057\u001b[0m         \u001b[0;31m# A stub for the opener argument to built-in open()\u001b[0m\u001b[0;34m\u001b[0m\u001b[0;34m\u001b[0m\u001b[0;34m\u001b[0m\u001b[0m\n\u001b[0;32m-> 1058\u001b[0;31m         \u001b[0;32mreturn\u001b[0m \u001b[0mself\u001b[0m\u001b[0;34m.\u001b[0m\u001b[0m_accessor\u001b[0m\u001b[0;34m.\u001b[0m\u001b[0mopen\u001b[0m\u001b[0;34m(\u001b[0m\u001b[0mself\u001b[0m\u001b[0;34m,\u001b[0m \u001b[0mflags\u001b[0m\u001b[0;34m,\u001b[0m \u001b[0mmode\u001b[0m\u001b[0;34m)\u001b[0m\u001b[0;34m\u001b[0m\u001b[0;34m\u001b[0m\u001b[0m\n\u001b[0m\u001b[1;32m   1059\u001b[0m \u001b[0;34m\u001b[0m\u001b[0m\n\u001b[1;32m   1060\u001b[0m     \u001b[0;32mdef\u001b[0m \u001b[0m_raw_open\u001b[0m\u001b[0;34m(\u001b[0m\u001b[0mself\u001b[0m\u001b[0;34m,\u001b[0m \u001b[0mflags\u001b[0m\u001b[0;34m,\u001b[0m \u001b[0mmode\u001b[0m\u001b[0;34m=\u001b[0m\u001b[0;36m0o777\u001b[0m\u001b[0;34m)\u001b[0m\u001b[0;34m:\u001b[0m\u001b[0;34m\u001b[0m\u001b[0;34m\u001b[0m\u001b[0m\n",
      "\u001b[0;31mFileNotFoundError\u001b[0m: [Errno 2] No such file or directory: '/projects/cc/knlr326/1_NMR_project/1_NMR_data_AZ/1_old_models/Chemformer/data/seq-to-seq_datasets/MIT_mixed/src-train.txt'"
     ]
    }
   ],
   "source": [
    "# Process USPTO Mixed dataset\n",
    "uspto_mixed_path = Path(USPTO_MIXED_PATH)\n",
    "uspto_mixed_df = process_uspto_mixed_dataset(uspto_mixed_path)\n",
    "print(f\"Read {str(len(uspto_mixed_df.index))} rows from USPTO Mixed dataset.\")"
   ]
  },
  {
   "cell_type": "code",
   "execution_count": null,
   "metadata": {},
   "outputs": [],
   "source": [
    "uspto_mixed_df.head()"
   ]
  },
  {
   "cell_type": "code",
   "execution_count": 14,
   "metadata": {
    "collapsed": true,
    "jupyter": {
     "outputs_hidden": true
    },
    "tags": []
   },
   "outputs": [
    {
     "ename": "NameError",
     "evalue": "name 'uspto_mixed_df' is not defined",
     "output_type": "error",
     "traceback": [
      "\u001b[0;31m---------------------------------------------------------------------------\u001b[0m",
      "\u001b[0;31mNameError\u001b[0m                                 Traceback (most recent call last)",
      "\u001b[0;32m/wscratch/knlr326/ipykernel_24349/2681544292.py\u001b[0m in \u001b[0;36m<module>\u001b[0;34m\u001b[0m\n\u001b[0;32m----> 1\u001b[0;31m \u001b[0muspto_mixed_df\u001b[0m\u001b[0;34m.\u001b[0m\u001b[0mto_pickle\u001b[0m\u001b[0;34m(\u001b[0m\u001b[0mPath\u001b[0m\u001b[0;34m(\u001b[0m\u001b[0mUSPTO_MIXED_PICKLE_PATH\u001b[0m\u001b[0;34m)\u001b[0m\u001b[0;34m)\u001b[0m\u001b[0;34m\u001b[0m\u001b[0;34m\u001b[0m\u001b[0m\n\u001b[0m",
      "\u001b[0;31mNameError\u001b[0m: name 'uspto_mixed_df' is not defined"
     ]
    }
   ],
   "source": [
    "uspto_mixed_df.to_pickle(Path(USPTO_MIXED_PICKLE_PATH))"
   ]
  },
  {
   "cell_type": "code",
   "execution_count": null,
   "metadata": {},
   "outputs": [],
   "source": [
    "def process_uspto_sep_dataset(path):\n",
    "    train_reacts, train_reags = load_mols(path / \"src-train.txt\", sep=True)\n",
    "    train_prods = load_mols(path / \"tgt-train.txt\")\n",
    "    train_df = build_df(train_reacts, train_prods, \"train\", reags=train_reags)\n",
    "\n",
    "    val_reacts, val_reags = load_mols(path / \"src-val.txt\", sep=True)\n",
    "    val_prods = load_mols(path / \"tgt-val.txt\")\n",
    "    val_df = build_df(val_reacts, val_prods, \"valid\", reags=val_reags)\n",
    "\n",
    "    test_reacts, test_reags = load_mols(path / \"src-test.txt\", sep=True)\n",
    "    test_prods = load_mols(path / \"tgt-test.txt\")\n",
    "    test_df = build_df(test_reacts, test_prods, \"test\", reags=test_reags)\n",
    "\n",
    "    dataset_df = pd.concat([train_df, val_df, test_df], ignore_index=True)\n",
    "    return dataset_df"
   ]
  },
  {
   "cell_type": "code",
   "execution_count": null,
   "metadata": {
    "tags": []
   },
   "outputs": [],
   "source": [
    "# Process USPTO Separated dataset\n",
    "uspto_sep_path = Path(USPTO_SEP_PATH)\n",
    "uspto_sep_df = process_uspto_sep_dataset(uspto_sep_path)\n",
    "print(f\"Read {str(len(uspto_sep_df.index))} rows from USPTO Separated dataset.\")"
   ]
  },
  {
   "cell_type": "code",
   "execution_count": null,
   "metadata": {},
   "outputs": [],
   "source": [
    "uspto_sep_df.head()"
   ]
  },
  {
   "cell_type": "code",
   "execution_count": null,
   "metadata": {},
   "outputs": [],
   "source": [
    "uspto_sep_df.to_pickle(Path(USPTO_SEP_PICKLE_PATH))"
   ]
  },
  {
   "cell_type": "code",
   "execution_count": null,
   "metadata": {},
   "outputs": [],
   "source": [
    "def process_uspto_50_dataset(path):\n",
    "    train_prods, train_types = load_mols(path / \"src-train.txt\", uspto_50=True)\n",
    "    train_reacts, _ = load_mols(path / \"tgt-train.txt\", uspto_50=True)\n",
    "    assert len(train_types) == len(train_reacts) == len(train_prods)\n",
    "    train_df = build_df(train_reacts, train_prods, \"train\", reaction_types=train_types)\n",
    "\n",
    "    val_prods, val_types = load_mols(path / \"src-val.txt\", uspto_50=True)\n",
    "    val_reacts, _ = load_mols(path / \"tgt-val.txt\", uspto_50=True)\n",
    "    assert len(val_types) == len(val_reacts) == len(val_prods)\n",
    "    val_df = build_df(val_reacts, val_prods, \"valid\", reaction_types=val_types)\n",
    "\n",
    "    test_prods, test_types = load_mols(path / \"src-test.txt\", uspto_50=True)\n",
    "    test_reacts, _ = load_mols(path / \"tgt-test.txt\", uspto_50=True)\n",
    "    assert len(test_types) == len(test_reacts) == len(test_prods)\n",
    "    test_df = build_df(test_reacts, test_prods, \"test\", reaction_types=test_types)\n",
    "\n",
    "    dataset_df = pd.concat([train_df, val_df, test_df], ignore_index=True)\n",
    "    return dataset_df"
   ]
  },
  {
   "cell_type": "code",
   "execution_count": null,
   "metadata": {
    "tags": []
   },
   "outputs": [],
   "source": [
    "# Process USPTO 50K dataset\n",
    "uspto_50_path = Path(USPTO_50_PATH)\n",
    "uspto_50_df = process_uspto_50_dataset(uspto_50_path)\n",
    "print(f\"Read {str(len(uspto_50_df.index))} rows from USPTO 50K dataset.\")"
   ]
  },
  {
   "cell_type": "code",
   "execution_count": null,
   "metadata": {},
   "outputs": [],
   "source": [
    "uspto_50_df.head()"
   ]
  },
  {
   "cell_type": "code",
   "execution_count": null,
   "metadata": {},
   "outputs": [],
   "source": [
    "uspto_50_df.to_pickle(Path(USPTO_50_PICKLE_PATH))"
   ]
  },
  {
   "cell_type": "code",
   "execution_count": 4,
   "metadata": {},
   "outputs": [],
   "source": [
    "# Generate a text file for USPTO 50K test data for predict.py script"
   ]
  },
  {
   "cell_type": "code",
   "execution_count": 15,
   "metadata": {},
   "outputs": [],
   "source": [
    "USPTO_50_SAVED_PICKLE_PATH = \"/projects/cc/knlr326/1_NMR_project/1_NMR_data_AZ/1_old_models/Chemformer/data/seq-to-seq_datasets/uspto_50.pickle\"\n",
    "USPTO_50_TEST_TEXT_PATH = \"/projects/cc/knlr326/1_NMR_project/1_NMR_data_AZ/1_old_models/Chemformer/data/seq-to-seq_datasets/uspto_50_test.txt\""
   ]
  },
  {
   "cell_type": "code",
   "execution_count": 16,
   "metadata": {},
   "outputs": [],
   "source": [
    "uspto_50_df = pd.read_pickle(USPTO_50_SAVED_PICKLE_PATH)"
   ]
  },
  {
   "cell_type": "code",
   "execution_count": 17,
   "metadata": {},
   "outputs": [
    {
     "data": {
      "text/html": [
       "<div>\n",
       "<style scoped>\n",
       "    .dataframe tbody tr th:only-of-type {\n",
       "        vertical-align: middle;\n",
       "    }\n",
       "\n",
       "    .dataframe tbody tr th {\n",
       "        vertical-align: top;\n",
       "    }\n",
       "\n",
       "    .dataframe thead th {\n",
       "        text-align: right;\n",
       "    }\n",
       "</style>\n",
       "<table border=\"1\" class=\"dataframe\">\n",
       "  <thead>\n",
       "    <tr style=\"text-align: right;\">\n",
       "      <th></th>\n",
       "      <th>reactants_mol</th>\n",
       "      <th>products_mol</th>\n",
       "      <th>reaction_type</th>\n",
       "      <th>set</th>\n",
       "    </tr>\n",
       "  </thead>\n",
       "  <tbody>\n",
       "    <tr>\n",
       "      <th>0</th>\n",
       "      <td>&lt;rdkit.Chem.rdchem.Mol object at 0x7f2a0c3bb970&gt;</td>\n",
       "      <td>&lt;rdkit.Chem.rdchem.Mol object at 0x7f2a0ab304b0&gt;</td>\n",
       "      <td>&lt;RX_1&gt;</td>\n",
       "      <td>train</td>\n",
       "    </tr>\n",
       "    <tr>\n",
       "      <th>1</th>\n",
       "      <td>&lt;rdkit.Chem.rdchem.Mol object at 0x7f2a0fd174f0&gt;</td>\n",
       "      <td>&lt;rdkit.Chem.rdchem.Mol object at 0x7f2a0ab30530&gt;</td>\n",
       "      <td>&lt;RX_6&gt;</td>\n",
       "      <td>train</td>\n",
       "    </tr>\n",
       "    <tr>\n",
       "      <th>2</th>\n",
       "      <td>&lt;rdkit.Chem.rdchem.Mol object at 0x7f2a0c3c6030&gt;</td>\n",
       "      <td>&lt;rdkit.Chem.rdchem.Mol object at 0x7f2a0ab305b0&gt;</td>\n",
       "      <td>&lt;RX_9&gt;</td>\n",
       "      <td>train</td>\n",
       "    </tr>\n",
       "    <tr>\n",
       "      <th>3</th>\n",
       "      <td>&lt;rdkit.Chem.rdchem.Mol object at 0x7f2a0c3c6070&gt;</td>\n",
       "      <td>&lt;rdkit.Chem.rdchem.Mol object at 0x7f2a0ab30630&gt;</td>\n",
       "      <td>&lt;RX_6&gt;</td>\n",
       "      <td>train</td>\n",
       "    </tr>\n",
       "    <tr>\n",
       "      <th>4</th>\n",
       "      <td>&lt;rdkit.Chem.rdchem.Mol object at 0x7f2a0c3c60b0&gt;</td>\n",
       "      <td>&lt;rdkit.Chem.rdchem.Mol object at 0x7f2a0ab306b0&gt;</td>\n",
       "      <td>&lt;RX_1&gt;</td>\n",
       "      <td>train</td>\n",
       "    </tr>\n",
       "  </tbody>\n",
       "</table>\n",
       "</div>"
      ],
      "text/plain": [
       "                                      reactants_mol  \\\n",
       "0  <rdkit.Chem.rdchem.Mol object at 0x7f2a0c3bb970>   \n",
       "1  <rdkit.Chem.rdchem.Mol object at 0x7f2a0fd174f0>   \n",
       "2  <rdkit.Chem.rdchem.Mol object at 0x7f2a0c3c6030>   \n",
       "3  <rdkit.Chem.rdchem.Mol object at 0x7f2a0c3c6070>   \n",
       "4  <rdkit.Chem.rdchem.Mol object at 0x7f2a0c3c60b0>   \n",
       "\n",
       "                                       products_mol reaction_type    set  \n",
       "0  <rdkit.Chem.rdchem.Mol object at 0x7f2a0ab304b0>        <RX_1>  train  \n",
       "1  <rdkit.Chem.rdchem.Mol object at 0x7f2a0ab30530>        <RX_6>  train  \n",
       "2  <rdkit.Chem.rdchem.Mol object at 0x7f2a0ab305b0>        <RX_9>  train  \n",
       "3  <rdkit.Chem.rdchem.Mol object at 0x7f2a0ab30630>        <RX_6>  train  \n",
       "4  <rdkit.Chem.rdchem.Mol object at 0x7f2a0ab306b0>        <RX_1>  train  "
      ]
     },
     "execution_count": 17,
     "metadata": {},
     "output_type": "execute_result"
    }
   ],
   "source": [
    "uspto_50_df.head()"
   ]
  },
  {
   "cell_type": "code",
   "execution_count": 18,
   "metadata": {},
   "outputs": [],
   "source": [
    "reacts_mol = uspto_50_df[\"reactants_mol\"].tolist()\n",
    "sets = uspto_50_df[\"set\"].tolist()"
   ]
  },
  {
   "cell_type": "code",
   "execution_count": 19,
   "metadata": {},
   "outputs": [],
   "source": [
    "reacts_mol_test = [mol for idx, mol in enumerate(reacts_mol) if sets[idx] == \"test\"]"
   ]
  },
  {
   "cell_type": "code",
   "execution_count": 20,
   "metadata": {
    "tags": []
   },
   "outputs": [
    {
     "name": "stdout",
     "output_type": "stream",
     "text": [
      "Length of test dataset: 5004\n"
     ]
    }
   ],
   "source": [
    "reacts_test = [Chem.MolToSmiles(mol) for mol in reacts_mol_test]\n",
    "print(f\"Length of test dataset: {len(reacts_test)}\")"
   ]
  },
  {
   "cell_type": "code",
   "execution_count": 21,
   "metadata": {},
   "outputs": [],
   "source": [
    "output_str = \"\\n\".join(reacts_test)"
   ]
  },
  {
   "cell_type": "code",
   "execution_count": 22,
   "metadata": {},
   "outputs": [
    {
     "data": {
      "text/plain": [
       "259311"
      ]
     },
     "execution_count": 22,
     "metadata": {},
     "output_type": "execute_result"
    }
   ],
   "source": [
    "p = Path(USPTO_50_TEST_TEXT_PATH)\n",
    "p.write_text(output_str)"
   ]
  },
  {
   "cell_type": "code",
   "execution_count": null,
   "metadata": {},
   "outputs": [],
   "source": []
  }
 ],
 "metadata": {
  "kernelspec": {
   "display_name": "Python [conda env:NMR_Structure_Elucidator]",
   "language": "python",
   "name": "conda-env-NMR_Structure_Elucidator-py"
  },
  "language_info": {
   "codemirror_mode": {
    "name": "ipython",
    "version": 3
   },
   "file_extension": ".py",
   "mimetype": "text/x-python",
   "name": "python",
   "nbconvert_exporter": "python",
   "pygments_lexer": "ipython3",
   "version": "3.7.6"
  }
 },
 "nbformat": 4,
 "nbformat_minor": 4
}
