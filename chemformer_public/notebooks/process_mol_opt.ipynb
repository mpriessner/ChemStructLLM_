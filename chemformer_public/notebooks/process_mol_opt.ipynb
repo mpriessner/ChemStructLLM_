{
 "cells": [
  {
   "cell_type": "code",
   "execution_count": 1,
   "metadata": {},
   "outputs": [],
   "source": [
    "import pandas as pd\n",
    "from pathlib import Path\n",
    "from rdkit import Chem"
   ]
  },
  {
   "cell_type": "code",
   "execution_count": 2,
   "metadata": {},
   "outputs": [],
   "source": [
    "DATA_PATH = \"../../data/mol_opt.csv\"\n",
    "PICKLE_PATH = \"../../data/mol_opt.pickle\""
   ]
  },
  {
   "cell_type": "code",
   "execution_count": 3,
   "metadata": {},
   "outputs": [],
   "source": [
    "data_path = Path(DATA_PATH)\n",
    "f = data_path.open(\"r\")\n",
    "opt_df = pd.read_csv(f)"
   ]
  },
  {
   "cell_type": "code",
   "execution_count": 4,
   "metadata": {},
   "outputs": [
    {
     "output_type": "execute_result",
     "data": {
      "text/plain": "                                               Input  \\\n0  LogD_change_(-0.5, -0.3]Solubility_low->highCl...   \n1  LogD_change_(-0.5, -0.3]Solubility_no_changeCl...   \n2  LogD_change_(0.5, 0.7]Solubility_no_changeClin...   \n3  LogD_change_(-0.1, 0.1]Solubility_no_changeCli...   \n4  LogD_change_(0.3, 0.5]Solubility_no_changeClin...   \n\n                                              Output    Set  \n0               O=C1CCC(O)CCN1C(CSc1ccccc1)Cc1ccccc1  train  \n1                     COc1ccc(-c2cn(CCO)c(CCN)n2)cc1  train  \n2                    Cc1cc(Nc2ccc(F)cc2)n2nc(C)nc2n1  train  \n3      COc1ccc(NC(=O)C2CCN(C(=O)c3ccc(OC)cc3)CC2)cc1  train  \n4  COCc1ccc(C(C)=O)c2sc(C(=O)Nc3ccc4c(C(=O)OC)ccc...  train  ",
      "text/html": "<div>\n<style scoped>\n    .dataframe tbody tr th:only-of-type {\n        vertical-align: middle;\n    }\n\n    .dataframe tbody tr th {\n        vertical-align: top;\n    }\n\n    .dataframe thead th {\n        text-align: right;\n    }\n</style>\n<table border=\"1\" class=\"dataframe\">\n  <thead>\n    <tr style=\"text-align: right;\">\n      <th></th>\n      <th>Input</th>\n      <th>Output</th>\n      <th>Set</th>\n    </tr>\n  </thead>\n  <tbody>\n    <tr>\n      <th>0</th>\n      <td>LogD_change_(-0.5, -0.3]Solubility_low-&gt;highCl...</td>\n      <td>O=C1CCC(O)CCN1C(CSc1ccccc1)Cc1ccccc1</td>\n      <td>train</td>\n    </tr>\n    <tr>\n      <th>1</th>\n      <td>LogD_change_(-0.5, -0.3]Solubility_no_changeCl...</td>\n      <td>COc1ccc(-c2cn(CCO)c(CCN)n2)cc1</td>\n      <td>train</td>\n    </tr>\n    <tr>\n      <th>2</th>\n      <td>LogD_change_(0.5, 0.7]Solubility_no_changeClin...</td>\n      <td>Cc1cc(Nc2ccc(F)cc2)n2nc(C)nc2n1</td>\n      <td>train</td>\n    </tr>\n    <tr>\n      <th>3</th>\n      <td>LogD_change_(-0.1, 0.1]Solubility_no_changeCli...</td>\n      <td>COc1ccc(NC(=O)C2CCN(C(=O)c3ccc(OC)cc3)CC2)cc1</td>\n      <td>train</td>\n    </tr>\n    <tr>\n      <th>4</th>\n      <td>LogD_change_(0.3, 0.5]Solubility_no_changeClin...</td>\n      <td>COCc1ccc(C(C)=O)c2sc(C(=O)Nc3ccc4c(C(=O)OC)ccc...</td>\n      <td>train</td>\n    </tr>\n  </tbody>\n</table>\n</div>"
     },
     "metadata": {},
     "execution_count": 4
    }
   ],
   "source": [
    "opt_df.head()"
   ]
  },
  {
   "cell_type": "code",
   "execution_count": 5,
   "metadata": {
    "tags": []
   },
   "outputs": [
    {
     "output_type": "stream",
     "name": "stdout",
     "text": "Total number of rows: 198558\n"
    }
   ],
   "source": [
    "print(f\"Total number of rows: {len(opt_df.index)}\")"
   ]
  },
  {
   "cell_type": "code",
   "execution_count": 6,
   "metadata": {
    "tags": []
   },
   "outputs": [
    {
     "output_type": "stream",
     "name": "stdout",
     "text": "['validation', 'train', 'test']\n"
    }
   ],
   "source": [
    "sets = set(opt_df[\"Set\"].tolist())\n",
    "print(list(sets))"
   ]
  },
  {
   "cell_type": "code",
   "execution_count": 7,
   "metadata": {},
   "outputs": [],
   "source": [
    "inputs = opt_df[\"Input\"].tolist()\n",
    "outputs = opt_df[\"Output\"].tolist()\n",
    "sets = opt_df[\"Set\"].tolist()"
   ]
  },
  {
   "cell_type": "code",
   "execution_count": 8,
   "metadata": {
    "tags": []
   },
   "outputs": [
    {
     "output_type": "stream",
     "name": "stdout",
     "text": "LogD_change_(-0.5, -0.3]Solubility_low->highClint_no_changeO=C(NC1CCC(=O)N(C(CSc2ccccc2)Cc2ccccc2)CC1)OCc1ccccc1\nLogD_change_(-0.5, -0.3]Solubility_no_changeClint_low->highCCCNC(=O)CCn1cc(-c2ccc(OC)cc2)nc1CCN\nLogD_change_(0.5, 0.7]Solubility_no_changeClint_no_changeCc1cc(Nc2ccc(F)cc2)n2ncnc2n1\nLogD_change_(-0.1, 0.1]Solubility_no_changeClint_no_changeCOc1ccc(C(=O)N2CCC(C(=O)Nc3ccc4c(c3)OCO4)CC2)cc1\nLogD_change_(0.3, 0.5]Solubility_no_changeClint_no_changeCOCCOCc1cccc2nc(NC(=O)c3sc4c(C(C)=O)ccc(COC)c4c3C)ccc12\n"
    }
   ],
   "source": [
    "for input_mol in inputs[:5]:\n",
    "    print(input_mol)"
   ]
  },
  {
   "cell_type": "code",
   "execution_count": 9,
   "metadata": {
    "tags": []
   },
   "outputs": [],
   "source": [
    "smiles = []\n",
    "prop_tokens = []\n",
    "for input_mol in inputs:\n",
    "    splits = input_mol.split(\"Clint_\")\n",
    "    smi = splits[-1][9:]\n",
    "    props = splits[0] + \"Clint_\" + splits[-1][:9]\n",
    "    smiles.append(smi)\n",
    "    prop_tokens.append(props)"
   ]
  },
  {
   "cell_type": "code",
   "execution_count": 10,
   "metadata": {},
   "outputs": [],
   "source": [
    "for idx, input_mol in enumerate(inputs):\n",
    "    assert input_mol == prop_tokens[idx] + smiles[idx]"
   ]
  },
  {
   "cell_type": "code",
   "execution_count": 11,
   "metadata": {},
   "outputs": [],
   "source": [
    "sets = [\"valid\" if s == \"validation\" else s for s in sets]"
   ]
  },
  {
   "cell_type": "code",
   "execution_count": 12,
   "metadata": {},
   "outputs": [],
   "source": [
    "input_mols = [Chem.MolFromSmiles(smi) for smi in smiles]\n",
    "output_mols = [Chem.MolFromSmiles(smi) for smi in outputs]"
   ]
  },
  {
   "cell_type": "code",
   "execution_count": 13,
   "metadata": {},
   "outputs": [],
   "source": [
    "invalid_inputs = [mol for mol in input_mols if mol is None]\n",
    "invalid_outputs = [mol for mol in output_mols if mol is None]"
   ]
  },
  {
   "cell_type": "code",
   "execution_count": 14,
   "metadata": {
    "tags": []
   },
   "outputs": [
    {
     "output_type": "stream",
     "name": "stdout",
     "text": "0\n0\n"
    }
   ],
   "source": [
    "print(len(invalid_inputs))\n",
    "print(len(invalid_outputs))"
   ]
  },
  {
   "cell_type": "code",
   "execution_count": 15,
   "metadata": {},
   "outputs": [],
   "source": [
    "data_dict = {\n",
    "    \"property_tokens\": prop_tokens,\n",
    "    \"input_smiles\": smiles,\n",
    "    \"input_mols\": input_mols,\n",
    "    \"output_smiles\": outputs,\n",
    "    \"output_mols\": output_mols,\n",
    "    \"set\": sets\n",
    "}\n",
    "opt_df = pd.DataFrame(data=data_dict)"
   ]
  },
  {
   "cell_type": "code",
   "execution_count": 16,
   "metadata": {},
   "outputs": [
    {
     "output_type": "execute_result",
     "data": {
      "text/plain": "                                     property_tokens  \\\n0  LogD_change_(-0.5, -0.3]Solubility_low->highCl...   \n1  LogD_change_(-0.5, -0.3]Solubility_no_changeCl...   \n2  LogD_change_(0.5, 0.7]Solubility_no_changeClin...   \n3  LogD_change_(-0.1, 0.1]Solubility_no_changeCli...   \n4  LogD_change_(0.3, 0.5]Solubility_no_changeClin...   \n\n                                        input_smiles  \\\n0  O=C(NC1CCC(=O)N(C(CSc2ccccc2)Cc2ccccc2)CC1)OCc...   \n1               CCCNC(=O)CCn1cc(-c2ccc(OC)cc2)nc1CCN   \n2                       Cc1cc(Nc2ccc(F)cc2)n2ncnc2n1   \n3   COc1ccc(C(=O)N2CCC(C(=O)Nc3ccc4c(c3)OCO4)CC2)cc1   \n4  COCCOCc1cccc2nc(NC(=O)c3sc4c(C(C)=O)ccc(COC)c4...   \n\n                                          input_mols  \\\n0  <rdkit.Chem.rdchem.Mol object at 0x000002AF332...   \n1  <rdkit.Chem.rdchem.Mol object at 0x000002AF332...   \n2  <rdkit.Chem.rdchem.Mol object at 0x000002AF332...   \n3  <rdkit.Chem.rdchem.Mol object at 0x000002AF33C...   \n4  <rdkit.Chem.rdchem.Mol object at 0x000002AF333...   \n\n                                       output_smiles  \\\n0               O=C1CCC(O)CCN1C(CSc1ccccc1)Cc1ccccc1   \n1                     COc1ccc(-c2cn(CCO)c(CCN)n2)cc1   \n2                    Cc1cc(Nc2ccc(F)cc2)n2nc(C)nc2n1   \n3      COc1ccc(NC(=O)C2CCN(C(=O)c3ccc(OC)cc3)CC2)cc1   \n4  COCc1ccc(C(C)=O)c2sc(C(=O)Nc3ccc4c(C(=O)OC)ccc...   \n\n                                         output_mols    set  \n0  <rdkit.Chem.rdchem.Mol object at 0x000002AFD13...  train  \n1  <rdkit.Chem.rdchem.Mol object at 0x000002AFD13...  train  \n2  <rdkit.Chem.rdchem.Mol object at 0x000002AFD13...  train  \n3  <rdkit.Chem.rdchem.Mol object at 0x000002AFD13...  train  \n4  <rdkit.Chem.rdchem.Mol object at 0x000002AFD13...  train  ",
      "text/html": "<div>\n<style scoped>\n    .dataframe tbody tr th:only-of-type {\n        vertical-align: middle;\n    }\n\n    .dataframe tbody tr th {\n        vertical-align: top;\n    }\n\n    .dataframe thead th {\n        text-align: right;\n    }\n</style>\n<table border=\"1\" class=\"dataframe\">\n  <thead>\n    <tr style=\"text-align: right;\">\n      <th></th>\n      <th>property_tokens</th>\n      <th>input_smiles</th>\n      <th>input_mols</th>\n      <th>output_smiles</th>\n      <th>output_mols</th>\n      <th>set</th>\n    </tr>\n  </thead>\n  <tbody>\n    <tr>\n      <th>0</th>\n      <td>LogD_change_(-0.5, -0.3]Solubility_low-&gt;highCl...</td>\n      <td>O=C(NC1CCC(=O)N(C(CSc2ccccc2)Cc2ccccc2)CC1)OCc...</td>\n      <td>&lt;rdkit.Chem.rdchem.Mol object at 0x000002AF332...</td>\n      <td>O=C1CCC(O)CCN1C(CSc1ccccc1)Cc1ccccc1</td>\n      <td>&lt;rdkit.Chem.rdchem.Mol object at 0x000002AFD13...</td>\n      <td>train</td>\n    </tr>\n    <tr>\n      <th>1</th>\n      <td>LogD_change_(-0.5, -0.3]Solubility_no_changeCl...</td>\n      <td>CCCNC(=O)CCn1cc(-c2ccc(OC)cc2)nc1CCN</td>\n      <td>&lt;rdkit.Chem.rdchem.Mol object at 0x000002AF332...</td>\n      <td>COc1ccc(-c2cn(CCO)c(CCN)n2)cc1</td>\n      <td>&lt;rdkit.Chem.rdchem.Mol object at 0x000002AFD13...</td>\n      <td>train</td>\n    </tr>\n    <tr>\n      <th>2</th>\n      <td>LogD_change_(0.5, 0.7]Solubility_no_changeClin...</td>\n      <td>Cc1cc(Nc2ccc(F)cc2)n2ncnc2n1</td>\n      <td>&lt;rdkit.Chem.rdchem.Mol object at 0x000002AF332...</td>\n      <td>Cc1cc(Nc2ccc(F)cc2)n2nc(C)nc2n1</td>\n      <td>&lt;rdkit.Chem.rdchem.Mol object at 0x000002AFD13...</td>\n      <td>train</td>\n    </tr>\n    <tr>\n      <th>3</th>\n      <td>LogD_change_(-0.1, 0.1]Solubility_no_changeCli...</td>\n      <td>COc1ccc(C(=O)N2CCC(C(=O)Nc3ccc4c(c3)OCO4)CC2)cc1</td>\n      <td>&lt;rdkit.Chem.rdchem.Mol object at 0x000002AF33C...</td>\n      <td>COc1ccc(NC(=O)C2CCN(C(=O)c3ccc(OC)cc3)CC2)cc1</td>\n      <td>&lt;rdkit.Chem.rdchem.Mol object at 0x000002AFD13...</td>\n      <td>train</td>\n    </tr>\n    <tr>\n      <th>4</th>\n      <td>LogD_change_(0.3, 0.5]Solubility_no_changeClin...</td>\n      <td>COCCOCc1cccc2nc(NC(=O)c3sc4c(C(C)=O)ccc(COC)c4...</td>\n      <td>&lt;rdkit.Chem.rdchem.Mol object at 0x000002AF333...</td>\n      <td>COCc1ccc(C(C)=O)c2sc(C(=O)Nc3ccc4c(C(=O)OC)ccc...</td>\n      <td>&lt;rdkit.Chem.rdchem.Mol object at 0x000002AFD13...</td>\n      <td>train</td>\n    </tr>\n  </tbody>\n</table>\n</div>"
     },
     "metadata": {},
     "execution_count": 16
    }
   ],
   "source": [
    "opt_df.head()"
   ]
  },
  {
   "cell_type": "code",
   "execution_count": 17,
   "metadata": {
    "tags": []
   },
   "outputs": [
    {
     "output_type": "stream",
     "name": "stdout",
     "text": "['valid', 'train', 'test']\n"
    }
   ],
   "source": [
    "sets = set(opt_df[\"set\"].tolist())\n",
    "print(list(sets))"
   ]
  },
  {
   "cell_type": "code",
   "execution_count": 18,
   "metadata": {},
   "outputs": [],
   "source": [
    "opt_df.to_pickle(PICKLE_PATH)"
   ]
  },
  {
   "cell_type": "code",
   "execution_count": 3,
   "metadata": {},
   "outputs": [],
   "source": [
    "# Produce inputs as text file for use with predict.py script"
   ]
  },
  {
   "cell_type": "code",
   "execution_count": 6,
   "metadata": {},
   "outputs": [],
   "source": [
    "INPUT_TEXT_PATH = \"mol_opt_test.txt\""
   ]
  },
  {
   "cell_type": "code",
   "execution_count": 4,
   "metadata": {},
   "outputs": [],
   "source": [
    "df = pd.read_pickle(PICKLE_PATH)"
   ]
  },
  {
   "cell_type": "code",
   "execution_count": 5,
   "metadata": {},
   "outputs": [
    {
     "output_type": "execute_result",
     "data": {
      "text/plain": "                                     property_tokens  \\\n0  LogD_change_(-0.5, -0.3]Solubility_low->highCl...   \n1  LogD_change_(-0.5, -0.3]Solubility_no_changeCl...   \n2  LogD_change_(0.5, 0.7]Solubility_no_changeClin...   \n3  LogD_change_(-0.1, 0.1]Solubility_no_changeCli...   \n4  LogD_change_(0.3, 0.5]Solubility_no_changeClin...   \n\n                                        input_smiles  \\\n0  O=C(NC1CCC(=O)N(C(CSc2ccccc2)Cc2ccccc2)CC1)OCc...   \n1               CCCNC(=O)CCn1cc(-c2ccc(OC)cc2)nc1CCN   \n2                       Cc1cc(Nc2ccc(F)cc2)n2ncnc2n1   \n3   COc1ccc(C(=O)N2CCC(C(=O)Nc3ccc4c(c3)OCO4)CC2)cc1   \n4  COCCOCc1cccc2nc(NC(=O)c3sc4c(C(C)=O)ccc(COC)c4...   \n\n                                          input_mols  \\\n0  <rdkit.Chem.rdchem.Mol object at 0x00000123A13...   \n1  <rdkit.Chem.rdchem.Mol object at 0x00000123A13...   \n2  <rdkit.Chem.rdchem.Mol object at 0x00000123A00...   \n3  <rdkit.Chem.rdchem.Mol object at 0x00000123A13...   \n4  <rdkit.Chem.rdchem.Mol object at 0x00000123A13...   \n\n                                       output_smiles  \\\n0               O=C1CCC(O)CCN1C(CSc1ccccc1)Cc1ccccc1   \n1                     COc1ccc(-c2cn(CCO)c(CCN)n2)cc1   \n2                    Cc1cc(Nc2ccc(F)cc2)n2nc(C)nc2n1   \n3      COc1ccc(NC(=O)C2CCN(C(=O)c3ccc(OC)cc3)CC2)cc1   \n4  COCc1ccc(C(C)=O)c2sc(C(=O)Nc3ccc4c(C(=O)OC)ccc...   \n\n                                         output_mols    set  \n0  <rdkit.Chem.rdchem.Mol object at 0x00000123CA6...  train  \n1  <rdkit.Chem.rdchem.Mol object at 0x00000123CA6...  train  \n2  <rdkit.Chem.rdchem.Mol object at 0x00000123CA6...  train  \n3  <rdkit.Chem.rdchem.Mol object at 0x00000123CA6...  train  \n4  <rdkit.Chem.rdchem.Mol object at 0x00000123CA6...  train  ",
      "text/html": "<div>\n<style scoped>\n    .dataframe tbody tr th:only-of-type {\n        vertical-align: middle;\n    }\n\n    .dataframe tbody tr th {\n        vertical-align: top;\n    }\n\n    .dataframe thead th {\n        text-align: right;\n    }\n</style>\n<table border=\"1\" class=\"dataframe\">\n  <thead>\n    <tr style=\"text-align: right;\">\n      <th></th>\n      <th>property_tokens</th>\n      <th>input_smiles</th>\n      <th>input_mols</th>\n      <th>output_smiles</th>\n      <th>output_mols</th>\n      <th>set</th>\n    </tr>\n  </thead>\n  <tbody>\n    <tr>\n      <th>0</th>\n      <td>LogD_change_(-0.5, -0.3]Solubility_low-&gt;highCl...</td>\n      <td>O=C(NC1CCC(=O)N(C(CSc2ccccc2)Cc2ccccc2)CC1)OCc...</td>\n      <td>&lt;rdkit.Chem.rdchem.Mol object at 0x00000123A13...</td>\n      <td>O=C1CCC(O)CCN1C(CSc1ccccc1)Cc1ccccc1</td>\n      <td>&lt;rdkit.Chem.rdchem.Mol object at 0x00000123CA6...</td>\n      <td>train</td>\n    </tr>\n    <tr>\n      <th>1</th>\n      <td>LogD_change_(-0.5, -0.3]Solubility_no_changeCl...</td>\n      <td>CCCNC(=O)CCn1cc(-c2ccc(OC)cc2)nc1CCN</td>\n      <td>&lt;rdkit.Chem.rdchem.Mol object at 0x00000123A13...</td>\n      <td>COc1ccc(-c2cn(CCO)c(CCN)n2)cc1</td>\n      <td>&lt;rdkit.Chem.rdchem.Mol object at 0x00000123CA6...</td>\n      <td>train</td>\n    </tr>\n    <tr>\n      <th>2</th>\n      <td>LogD_change_(0.5, 0.7]Solubility_no_changeClin...</td>\n      <td>Cc1cc(Nc2ccc(F)cc2)n2ncnc2n1</td>\n      <td>&lt;rdkit.Chem.rdchem.Mol object at 0x00000123A00...</td>\n      <td>Cc1cc(Nc2ccc(F)cc2)n2nc(C)nc2n1</td>\n      <td>&lt;rdkit.Chem.rdchem.Mol object at 0x00000123CA6...</td>\n      <td>train</td>\n    </tr>\n    <tr>\n      <th>3</th>\n      <td>LogD_change_(-0.1, 0.1]Solubility_no_changeCli...</td>\n      <td>COc1ccc(C(=O)N2CCC(C(=O)Nc3ccc4c(c3)OCO4)CC2)cc1</td>\n      <td>&lt;rdkit.Chem.rdchem.Mol object at 0x00000123A13...</td>\n      <td>COc1ccc(NC(=O)C2CCN(C(=O)c3ccc(OC)cc3)CC2)cc1</td>\n      <td>&lt;rdkit.Chem.rdchem.Mol object at 0x00000123CA6...</td>\n      <td>train</td>\n    </tr>\n    <tr>\n      <th>4</th>\n      <td>LogD_change_(0.3, 0.5]Solubility_no_changeClin...</td>\n      <td>COCCOCc1cccc2nc(NC(=O)c3sc4c(C(C)=O)ccc(COC)c4...</td>\n      <td>&lt;rdkit.Chem.rdchem.Mol object at 0x00000123A13...</td>\n      <td>COCc1ccc(C(C)=O)c2sc(C(=O)Nc3ccc4c(C(=O)OC)ccc...</td>\n      <td>&lt;rdkit.Chem.rdchem.Mol object at 0x00000123CA6...</td>\n      <td>train</td>\n    </tr>\n  </tbody>\n</table>\n</div>"
     },
     "metadata": {},
     "execution_count": 5
    }
   ],
   "source": [
    "df.head()"
   ]
  },
  {
   "cell_type": "code",
   "execution_count": 7,
   "metadata": {},
   "outputs": [],
   "source": [
    "property_tokens = df[\"property_tokens\"].tolist()\n",
    "smiles = df[\"input_smiles\"].tolist()\n",
    "sets = df[\"set\"].tolist()"
   ]
  },
  {
   "cell_type": "code",
   "execution_count": 8,
   "metadata": {},
   "outputs": [],
   "source": [
    "test_prop_tokens = [props for idx, props in enumerate(property_tokens) if sets[idx] == \"test\"]\n",
    "test_smiles = [smi for idx, smi in enumerate(smiles) if sets[idx] == \"test\"]"
   ]
  },
  {
   "cell_type": "code",
   "execution_count": 9,
   "metadata": {},
   "outputs": [],
   "source": [
    "test_inputs = [f\"{props}{smi}\" for props, smi in zip(test_prop_tokens, test_smiles)]"
   ]
  },
  {
   "cell_type": "code",
   "execution_count": 11,
   "metadata": {
    "tags": []
   },
   "outputs": [
    {
     "output_type": "stream",
     "name": "stdout",
     "text": "Length of test set: 19856\n"
    }
   ],
   "source": [
    "print(f\"Length of test set: {len(test_inputs)}\")\n",
    "assert len(test_inputs) == len(test_prop_tokens) == len(test_smiles)"
   ]
  },
  {
   "cell_type": "code",
   "execution_count": 12,
   "metadata": {},
   "outputs": [],
   "source": [
    "output_str = \"\\n\".join(test_inputs)"
   ]
  },
  {
   "cell_type": "code",
   "execution_count": 13,
   "metadata": {},
   "outputs": [
    {
     "output_type": "execute_result",
     "data": {
      "text/plain": "2109089"
     },
     "metadata": {},
     "execution_count": 13
    }
   ],
   "source": [
    "p = Path(INPUT_TEXT_PATH)\n",
    "p.write_text(output_str)"
   ]
  },
  {
   "cell_type": "code",
   "execution_count": null,
   "metadata": {},
   "outputs": [],
   "source": []
  }
 ],
 "metadata": {
  "language_info": {
   "codemirror_mode": {
    "name": "ipython",
    "version": 3
   },
   "file_extension": ".py",
   "mimetype": "text/x-python",
   "name": "python",
   "nbconvert_exporter": "python",
   "pygments_lexer": "ipython3",
   "version": "3.7.4-final"
  },
  "orig_nbformat": 2,
  "kernelspec": {
   "name": "python3",
   "display_name": "Python 3"
  }
 },
 "nbformat": 4,
 "nbformat_minor": 2
}