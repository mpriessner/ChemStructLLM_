{
 "cells": [
  {
   "cell_type": "code",
   "execution_count": 1,
   "metadata": {},
   "outputs": [],
   "source": [
    "import re\n",
    "import pandas as pd\n",
    "from rdkit import Chem\n",
    "from pathlib import Path\n",
    "from concurrent.futures import ThreadPoolExecutor"
   ]
  },
  {
   "cell_type": "code",
   "execution_count": 2,
   "metadata": {},
   "outputs": [],
   "source": [
    "USPTO_MIXED_PATH = \"../../data/uspto_mit/data/MIT_mixed\"\n",
    "USPTO_SEP_PATH = \"../../data/uspto_mit/data/MIT_separated\"\n",
    "USPTO_50_PATH = \"../../data/uspto_50\""
   ]
  },
  {
   "cell_type": "code",
   "execution_count": 3,
   "metadata": {},
   "outputs": [],
   "source": [
    "USPTO_MIXED_PICKLE_PATH = \"../../data/uspto_mit/uspto_mixed.pickle\"\n",
    "USPTO_SEP_PICKLE_PATH = \"../../data/uspto_mit/uspto_sep.pickle\"\n",
    "USPTO_50_PICKLE_PATH = \"../../data/uspto_50/uspto_50.pickle\""
   ]
  },
  {
   "cell_type": "code",
   "execution_count": 4,
   "metadata": {},
   "outputs": [],
   "source": [
    "# **********************\n",
    "# *** Util Functions ***\n",
    "# **********************"
   ]
  },
  {
   "cell_type": "code",
   "execution_count": 5,
   "metadata": {},
   "outputs": [],
   "source": [
    "def remove_whitespace(path):\n",
    "    text = path.read_text()\n",
    "    lines = [line for line in text.split(\"\\n\") if line is not None and line != \"\"]\n",
    "    mol_strs = [line.replace(\" \", \"\") for line in lines]\n",
    "    return mol_strs"
   ]
  },
  {
   "cell_type": "code",
   "execution_count": 6,
   "metadata": {},
   "outputs": [],
   "source": [
    "def create_mols(mol_strs):\n",
    "    executor = ThreadPoolExecutor()\n",
    "    futures = [executor.submit(Chem.MolFromSmiles, mol_str) for mol_str in mol_strs]\n",
    "    mols = [future.result() for future in futures]\n",
    "    err_strs = [mol_strs[i] for i, mol in enumerate(mols) if mol is None]\n",
    "\n",
    "    if len(err_strs) > 0:\n",
    "        print(\"Could not construct mols for the following strings:\")\n",
    "        for err_str in err_strs:\n",
    "            print(err_str)\n",
    "\n",
    "    return mols"
   ]
  },
  {
   "cell_type": "code",
   "execution_count": 7,
   "metadata": {},
   "outputs": [],
   "source": [
    "def create_mols_sep(mol_strs):\n",
    "    def process_mol_str(mol_str):\n",
    "        splits = mol_str.split(\">\")\n",
    "        if len(splits) != 2:\n",
    "            raise ValueError(f\"Error with mol str: {mol_str}\")\n",
    "\n",
    "        reactants, reagents = tuple(splits)\n",
    "        react_mol = Chem.MolFromSmiles(reactants)\n",
    "        reag_mol = Chem.MolFromSmiles(reagents)\n",
    "        return react_mol, reag_mol\n",
    "\n",
    "    executor = ThreadPoolExecutor()\n",
    "    futures = [executor.submit(process_mol_str, mol_str) for mol_str in mol_strs]\n",
    "    mols = [future.result() for future in futures]\n",
    "    err_strs = [mol_strs[i] for i, (react, reag) in enumerate(mols) if react is None or reag is None]\n",
    "\n",
    "    if len(err_strs) > 0:\n",
    "        print(\"Could not construct mols for the following strings:\")\n",
    "        for err_str in err_strs:\n",
    "            print(err_str)\n",
    "\n",
    "    react_mols, reag_mols = tuple(zip(*mols))\n",
    "    return react_mols, reag_mols"
   ]
  },
  {
   "cell_type": "code",
   "execution_count": 8,
   "metadata": {},
   "outputs": [],
   "source": [
    "def load_mols(path, sep=False, uspto_50=False):\n",
    "    mol_strs = remove_whitespace(path)\n",
    "\n",
    "    if uspto_50:\n",
    "        new_mol_strs = []\n",
    "        reaction_types = []\n",
    "        prog = re.compile(\"(<RX_6>|<RX_2>|<RX_1>|<RX_3>|<RX_7>|<RX_9>|<RX_5>|<RX_10>|<RX_4>|<RX_8>)\")\n",
    "\n",
    "        for mol_str in mol_strs:\n",
    "            new_str = prog.sub(\"\", mol_str)\n",
    "            reaction_type = prog.match(mol_str)\n",
    "            reaction_type = reaction_type[0] if reaction_type is not None else None\n",
    "            new_mol_strs.append(new_str)\n",
    "            reaction_types.append(reaction_type)\n",
    "\n",
    "        mol_strs = new_mol_strs\n",
    "\n",
    "    if sep:\n",
    "        react_mols, reag_mols = create_mols_sep(mol_strs)\n",
    "        return react_mols, reag_mols\n",
    "\n",
    "    mols = create_mols(mol_strs)\n",
    "    if uspto_50:\n",
    "        return mols, reaction_types\n",
    "\n",
    "    return mols"
   ]
  },
  {
   "cell_type": "code",
   "execution_count": 9,
   "metadata": {},
   "outputs": [],
   "source": [
    "def build_df(reacts, prods, set_name, reags=None, reaction_types=None):\n",
    "    data = {\"reactants_mol\": reacts, \"products_mol\": prods}\n",
    "    if reags is not None:\n",
    "        data[\"reagents_mol\"] = reags\n",
    "    if reaction_types is not None:\n",
    "        data[\"reaction_type\"] = reaction_types\n",
    "\n",
    "    df = pd.DataFrame(data=data)\n",
    "    df[\"set\"] = set_name\n",
    "    return df"
   ]
  },
  {
   "cell_type": "code",
   "execution_count": 10,
   "metadata": {},
   "outputs": [],
   "source": [
    "# ************************\n",
    "# *** Process Datasets ***\n",
    "# ************************"
   ]
  },
  {
   "cell_type": "code",
   "execution_count": 11,
   "metadata": {},
   "outputs": [],
   "source": [
    "def process_uspto_mixed_dataset(path):\n",
    "    train_reacts = load_mols(path / \"src-train.txt\")\n",
    "    train_prods = load_mols(path / \"tgt-train.txt\")\n",
    "    train_df = build_df(train_reacts, train_prods, \"train\")\n",
    "\n",
    "    val_reacts = load_mols(path / \"src-val.txt\")\n",
    "    val_prods = load_mols(path / \"tgt-val.txt\")\n",
    "    val_df = build_df(val_reacts, val_prods, \"valid\")\n",
    "\n",
    "    test_reacts = load_mols(path / \"src-test.txt\")\n",
    "    test_prods = load_mols(path / \"tgt-test.txt\")\n",
    "    test_df = build_df(test_reacts, test_prods, \"test\")\n",
    "\n",
    "    dataset_df = pd.concat([train_df, val_df, test_df], ignore_index=True)\n",
    "    return dataset_df"
   ]
  },
  {
   "cell_type": "code",
   "execution_count": 27,
   "metadata": {
    "tags": []
   },
   "outputs": [
    {
     "output_type": "stream",
     "name": "stdout",
     "text": "Read 479035 rows from USPTO Mixed dataset.\n"
    }
   ],
   "source": [
    "# Process USPTO Mixed dataset\n",
    "uspto_mixed_path = Path(USPTO_MIXED_PATH)\n",
    "uspto_mixed_df = process_uspto_mixed_dataset(uspto_mixed_path)\n",
    "print(f\"Read {str(len(uspto_mixed_df.index))} rows from USPTO Mixed dataset.\")"
   ]
  },
  {
   "cell_type": "code",
   "execution_count": 29,
   "metadata": {},
   "outputs": [
    {
     "output_type": "execute_result",
     "data": {
      "text/plain": "                                       reactants_mol  \\\n0  <rdkit.Chem.rdchem.Mol object at 0x0000018613E...   \n1  <rdkit.Chem.rdchem.Mol object at 0x0000018613F...   \n2  <rdkit.Chem.rdchem.Mol object at 0x0000018613F...   \n3  <rdkit.Chem.rdchem.Mol object at 0x0000018613F...   \n4  <rdkit.Chem.rdchem.Mol object at 0x0000018613F...   \n\n                                        products_mol    set  \n0  <rdkit.Chem.rdchem.Mol object at 0x0000018613F...  train  \n1  <rdkit.Chem.rdchem.Mol object at 0x0000018613F...  train  \n2  <rdkit.Chem.rdchem.Mol object at 0x0000018613F...  train  \n3  <rdkit.Chem.rdchem.Mol object at 0x0000018613F...  train  \n4  <rdkit.Chem.rdchem.Mol object at 0x0000018613F...  train  ",
      "text/html": "<div>\n<style scoped>\n    .dataframe tbody tr th:only-of-type {\n        vertical-align: middle;\n    }\n\n    .dataframe tbody tr th {\n        vertical-align: top;\n    }\n\n    .dataframe thead th {\n        text-align: right;\n    }\n</style>\n<table border=\"1\" class=\"dataframe\">\n  <thead>\n    <tr style=\"text-align: right;\">\n      <th></th>\n      <th>reactants_mol</th>\n      <th>products_mol</th>\n      <th>set</th>\n    </tr>\n  </thead>\n  <tbody>\n    <tr>\n      <th>0</th>\n      <td>&lt;rdkit.Chem.rdchem.Mol object at 0x0000018613E...</td>\n      <td>&lt;rdkit.Chem.rdchem.Mol object at 0x0000018613F...</td>\n      <td>train</td>\n    </tr>\n    <tr>\n      <th>1</th>\n      <td>&lt;rdkit.Chem.rdchem.Mol object at 0x0000018613F...</td>\n      <td>&lt;rdkit.Chem.rdchem.Mol object at 0x0000018613F...</td>\n      <td>train</td>\n    </tr>\n    <tr>\n      <th>2</th>\n      <td>&lt;rdkit.Chem.rdchem.Mol object at 0x0000018613F...</td>\n      <td>&lt;rdkit.Chem.rdchem.Mol object at 0x0000018613F...</td>\n      <td>train</td>\n    </tr>\n    <tr>\n      <th>3</th>\n      <td>&lt;rdkit.Chem.rdchem.Mol object at 0x0000018613F...</td>\n      <td>&lt;rdkit.Chem.rdchem.Mol object at 0x0000018613F...</td>\n      <td>train</td>\n    </tr>\n    <tr>\n      <th>4</th>\n      <td>&lt;rdkit.Chem.rdchem.Mol object at 0x0000018613F...</td>\n      <td>&lt;rdkit.Chem.rdchem.Mol object at 0x0000018613F...</td>\n      <td>train</td>\n    </tr>\n  </tbody>\n</table>\n</div>"
     },
     "metadata": {},
     "execution_count": 29
    }
   ],
   "source": [
    "uspto_mixed_df.head()"
   ]
  },
  {
   "cell_type": "code",
   "execution_count": 30,
   "metadata": {},
   "outputs": [],
   "source": [
    "uspto_mixed_df.to_pickle(Path(USPTO_MIXED_PICKLE_PATH))"
   ]
  },
  {
   "cell_type": "code",
   "execution_count": 42,
   "metadata": {},
   "outputs": [],
   "source": [
    "def process_uspto_sep_dataset(path):\n",
    "    train_reacts, train_reags = load_mols(path / \"src-train.txt\", sep=True)\n",
    "    train_prods = load_mols(path / \"tgt-train.txt\")\n",
    "    train_df = build_df(train_reacts, train_prods, \"train\", reags=train_reags)\n",
    "\n",
    "    val_reacts, val_reags = load_mols(path / \"src-val.txt\", sep=True)\n",
    "    val_prods = load_mols(path / \"tgt-val.txt\")\n",
    "    val_df = build_df(val_reacts, val_prods, \"valid\", reags=val_reags)\n",
    "\n",
    "    test_reacts, test_reags = load_mols(path / \"src-test.txt\", sep=True)\n",
    "    test_prods = load_mols(path / \"tgt-test.txt\")\n",
    "    test_df = build_df(test_reacts, test_prods, \"test\", reags=test_reags)\n",
    "\n",
    "    dataset_df = pd.concat([train_df, val_df, test_df], ignore_index=True)\n",
    "    return dataset_df"
   ]
  },
  {
   "cell_type": "code",
   "execution_count": 43,
   "metadata": {
    "tags": []
   },
   "outputs": [
    {
     "output_type": "stream",
     "name": "stdout",
     "text": "Read 479035 rows from USPTO Separated dataset.\n"
    }
   ],
   "source": [
    "# Process USPTO Separated dataset\n",
    "uspto_sep_path = Path(USPTO_SEP_PATH)\n",
    "uspto_sep_df = process_uspto_sep_dataset(uspto_sep_path)\n",
    "print(f\"Read {str(len(uspto_sep_df.index))} rows from USPTO Separated dataset.\")"
   ]
  },
  {
   "cell_type": "code",
   "execution_count": 44,
   "metadata": {},
   "outputs": [
    {
     "output_type": "execute_result",
     "data": {
      "text/plain": "                                       reactants_mol  \\\n0  <rdkit.Chem.rdchem.Mol object at 0x0000018D0B7...   \n1  <rdkit.Chem.rdchem.Mol object at 0x00000186AD7...   \n2  <rdkit.Chem.rdchem.Mol object at 0x00000187227...   \n3  <rdkit.Chem.rdchem.Mol object at 0x00000187227...   \n4  <rdkit.Chem.rdchem.Mol object at 0x0000018DA5E...   \n\n                                        products_mol  \\\n0  <rdkit.Chem.rdchem.Mol object at 0x00000186A97...   \n1  <rdkit.Chem.rdchem.Mol object at 0x0000018D51E...   \n2  <rdkit.Chem.rdchem.Mol object at 0x0000018D53E...   \n3  <rdkit.Chem.rdchem.Mol object at 0x0000018D0B7...   \n4  <rdkit.Chem.rdchem.Mol object at 0x0000018D9EC...   \n\n                                        reagents_mol    set  \n0  <rdkit.Chem.rdchem.Mol object at 0x0000018D0B7...  train  \n1  <rdkit.Chem.rdchem.Mol object at 0x00000186AD7...  train  \n2  <rdkit.Chem.rdchem.Mol object at 0x00000187227...  train  \n3  <rdkit.Chem.rdchem.Mol object at 0x00000187227...  train  \n4  <rdkit.Chem.rdchem.Mol object at 0x0000018DA5E...  train  ",
      "text/html": "<div>\n<style scoped>\n    .dataframe tbody tr th:only-of-type {\n        vertical-align: middle;\n    }\n\n    .dataframe tbody tr th {\n        vertical-align: top;\n    }\n\n    .dataframe thead th {\n        text-align: right;\n    }\n</style>\n<table border=\"1\" class=\"dataframe\">\n  <thead>\n    <tr style=\"text-align: right;\">\n      <th></th>\n      <th>reactants_mol</th>\n      <th>products_mol</th>\n      <th>reagents_mol</th>\n      <th>set</th>\n    </tr>\n  </thead>\n  <tbody>\n    <tr>\n      <th>0</th>\n      <td>&lt;rdkit.Chem.rdchem.Mol object at 0x0000018D0B7...</td>\n      <td>&lt;rdkit.Chem.rdchem.Mol object at 0x00000186A97...</td>\n      <td>&lt;rdkit.Chem.rdchem.Mol object at 0x0000018D0B7...</td>\n      <td>train</td>\n    </tr>\n    <tr>\n      <th>1</th>\n      <td>&lt;rdkit.Chem.rdchem.Mol object at 0x00000186AD7...</td>\n      <td>&lt;rdkit.Chem.rdchem.Mol object at 0x0000018D51E...</td>\n      <td>&lt;rdkit.Chem.rdchem.Mol object at 0x00000186AD7...</td>\n      <td>train</td>\n    </tr>\n    <tr>\n      <th>2</th>\n      <td>&lt;rdkit.Chem.rdchem.Mol object at 0x00000187227...</td>\n      <td>&lt;rdkit.Chem.rdchem.Mol object at 0x0000018D53E...</td>\n      <td>&lt;rdkit.Chem.rdchem.Mol object at 0x00000187227...</td>\n      <td>train</td>\n    </tr>\n    <tr>\n      <th>3</th>\n      <td>&lt;rdkit.Chem.rdchem.Mol object at 0x00000187227...</td>\n      <td>&lt;rdkit.Chem.rdchem.Mol object at 0x0000018D0B7...</td>\n      <td>&lt;rdkit.Chem.rdchem.Mol object at 0x00000187227...</td>\n      <td>train</td>\n    </tr>\n    <tr>\n      <th>4</th>\n      <td>&lt;rdkit.Chem.rdchem.Mol object at 0x0000018DA5E...</td>\n      <td>&lt;rdkit.Chem.rdchem.Mol object at 0x0000018D9EC...</td>\n      <td>&lt;rdkit.Chem.rdchem.Mol object at 0x0000018DA5E...</td>\n      <td>train</td>\n    </tr>\n  </tbody>\n</table>\n</div>"
     },
     "metadata": {},
     "execution_count": 44
    }
   ],
   "source": [
    "uspto_sep_df.head()"
   ]
  },
  {
   "cell_type": "code",
   "execution_count": 45,
   "metadata": {},
   "outputs": [],
   "source": [
    "uspto_sep_df.to_pickle(Path(USPTO_SEP_PICKLE_PATH))"
   ]
  },
  {
   "cell_type": "code",
   "execution_count": 12,
   "metadata": {},
   "outputs": [],
   "source": [
    "def process_uspto_50_dataset(path):\n",
    "    train_prods, train_types = load_mols(path / \"src-train.txt\", uspto_50=True)\n",
    "    train_reacts, _ = load_mols(path / \"tgt-train.txt\", uspto_50=True)\n",
    "    assert len(train_types) == len(train_reacts) == len(train_prods)\n",
    "    train_df = build_df(train_reacts, train_prods, \"train\", reaction_types=train_types)\n",
    "\n",
    "    val_prods, val_types = load_mols(path / \"src-val.txt\", uspto_50=True)\n",
    "    val_reacts, _ = load_mols(path / \"tgt-val.txt\", uspto_50=True)\n",
    "    assert len(val_types) == len(val_reacts) == len(val_prods)\n",
    "    val_df = build_df(val_reacts, val_prods, \"valid\", reaction_types=val_types)\n",
    "\n",
    "    test_prods, test_types = load_mols(path / \"src-test.txt\", uspto_50=True)\n",
    "    test_reacts, _ = load_mols(path / \"tgt-test.txt\", uspto_50=True)\n",
    "    assert len(test_types) == len(test_reacts) == len(test_prods)\n",
    "    test_df = build_df(test_reacts, test_prods, \"test\", reaction_types=test_types)\n",
    "\n",
    "    dataset_df = pd.concat([train_df, val_df, test_df], ignore_index=True)\n",
    "    return dataset_df"
   ]
  },
  {
   "cell_type": "code",
   "execution_count": 13,
   "metadata": {
    "tags": []
   },
   "outputs": [
    {
     "output_type": "stream",
     "name": "stdout",
     "text": "Read 50037 rows from USPTO 50K dataset.\n"
    }
   ],
   "source": [
    "# Process USPTO 50K dataset\n",
    "uspto_50_path = Path(USPTO_50_PATH)\n",
    "uspto_50_df = process_uspto_50_dataset(uspto_50_path)\n",
    "print(f\"Read {str(len(uspto_50_df.index))} rows from USPTO 50K dataset.\")"
   ]
  },
  {
   "cell_type": "code",
   "execution_count": 14,
   "metadata": {},
   "outputs": [
    {
     "output_type": "execute_result",
     "data": {
      "text/plain": "                                       reactants_mol  \\\n0  <rdkit.Chem.rdchem.Mol object at 0x0000021A123...   \n1  <rdkit.Chem.rdchem.Mol object at 0x0000021A123...   \n2  <rdkit.Chem.rdchem.Mol object at 0x0000021A123...   \n3  <rdkit.Chem.rdchem.Mol object at 0x0000021A123...   \n4  <rdkit.Chem.rdchem.Mol object at 0x0000021A123...   \n\n                                        products_mol reaction_type    set  \n0  <rdkit.Chem.rdchem.Mol object at 0x0000021A121...        <RX_1>  train  \n1  <rdkit.Chem.rdchem.Mol object at 0x0000021A121...        <RX_6>  train  \n2  <rdkit.Chem.rdchem.Mol object at 0x0000021A121...        <RX_9>  train  \n3  <rdkit.Chem.rdchem.Mol object at 0x0000021A121...        <RX_6>  train  \n4  <rdkit.Chem.rdchem.Mol object at 0x0000021A121...        <RX_1>  train  ",
      "text/html": "<div>\n<style scoped>\n    .dataframe tbody tr th:only-of-type {\n        vertical-align: middle;\n    }\n\n    .dataframe tbody tr th {\n        vertical-align: top;\n    }\n\n    .dataframe thead th {\n        text-align: right;\n    }\n</style>\n<table border=\"1\" class=\"dataframe\">\n  <thead>\n    <tr style=\"text-align: right;\">\n      <th></th>\n      <th>reactants_mol</th>\n      <th>products_mol</th>\n      <th>reaction_type</th>\n      <th>set</th>\n    </tr>\n  </thead>\n  <tbody>\n    <tr>\n      <th>0</th>\n      <td>&lt;rdkit.Chem.rdchem.Mol object at 0x0000021A123...</td>\n      <td>&lt;rdkit.Chem.rdchem.Mol object at 0x0000021A121...</td>\n      <td>&lt;RX_1&gt;</td>\n      <td>train</td>\n    </tr>\n    <tr>\n      <th>1</th>\n      <td>&lt;rdkit.Chem.rdchem.Mol object at 0x0000021A123...</td>\n      <td>&lt;rdkit.Chem.rdchem.Mol object at 0x0000021A121...</td>\n      <td>&lt;RX_6&gt;</td>\n      <td>train</td>\n    </tr>\n    <tr>\n      <th>2</th>\n      <td>&lt;rdkit.Chem.rdchem.Mol object at 0x0000021A123...</td>\n      <td>&lt;rdkit.Chem.rdchem.Mol object at 0x0000021A121...</td>\n      <td>&lt;RX_9&gt;</td>\n      <td>train</td>\n    </tr>\n    <tr>\n      <th>3</th>\n      <td>&lt;rdkit.Chem.rdchem.Mol object at 0x0000021A123...</td>\n      <td>&lt;rdkit.Chem.rdchem.Mol object at 0x0000021A121...</td>\n      <td>&lt;RX_6&gt;</td>\n      <td>train</td>\n    </tr>\n    <tr>\n      <th>4</th>\n      <td>&lt;rdkit.Chem.rdchem.Mol object at 0x0000021A123...</td>\n      <td>&lt;rdkit.Chem.rdchem.Mol object at 0x0000021A121...</td>\n      <td>&lt;RX_1&gt;</td>\n      <td>train</td>\n    </tr>\n  </tbody>\n</table>\n</div>"
     },
     "metadata": {},
     "execution_count": 14
    }
   ],
   "source": [
    "uspto_50_df.head()"
   ]
  },
  {
   "cell_type": "code",
   "execution_count": 15,
   "metadata": {},
   "outputs": [],
   "source": [
    "uspto_50_df.to_pickle(Path(USPTO_50_PICKLE_PATH))"
   ]
  },
  {
   "cell_type": "code",
   "execution_count": 4,
   "metadata": {},
   "outputs": [],
   "source": [
    "# Generate a text file for USPTO 50K test data for predict.py script"
   ]
  },
  {
   "cell_type": "code",
   "execution_count": 15,
   "metadata": {},
   "outputs": [],
   "source": [
    "USPTO_50_SAVED_PICKLE_PATH = \"../../data/uspto_50.pickle\"\n",
    "USPTO_50_TEST_TEXT_PATH = \"../uspto_50_test.txt\""
   ]
  },
  {
   "cell_type": "code",
   "execution_count": 8,
   "metadata": {},
   "outputs": [],
   "source": [
    "uspto_50_df = pd.read_pickle(USPTO_50_SAVED_PICKLE_PATH)"
   ]
  },
  {
   "cell_type": "code",
   "execution_count": 9,
   "metadata": {},
   "outputs": [
    {
     "output_type": "execute_result",
     "data": {
      "text/plain": "                                       reactants_mol  \\\n0  <rdkit.Chem.rdchem.Mol object at 0x000001ED569...   \n1  <rdkit.Chem.rdchem.Mol object at 0x000001ED569...   \n2  <rdkit.Chem.rdchem.Mol object at 0x000001ED569...   \n3  <rdkit.Chem.rdchem.Mol object at 0x000001ED569...   \n4  <rdkit.Chem.rdchem.Mol object at 0x000001ED569...   \n\n                                        products_mol reaction_type    set  \n0  <rdkit.Chem.rdchem.Mol object at 0x000001ED7FC...        <RX_1>  train  \n1  <rdkit.Chem.rdchem.Mol object at 0x000001ED7FC...        <RX_6>  train  \n2  <rdkit.Chem.rdchem.Mol object at 0x000001ED7FC...        <RX_9>  train  \n3  <rdkit.Chem.rdchem.Mol object at 0x000001ED7FC...        <RX_6>  train  \n4  <rdkit.Chem.rdchem.Mol object at 0x000001ED7FC...        <RX_1>  train  ",
      "text/html": "<div>\n<style scoped>\n    .dataframe tbody tr th:only-of-type {\n        vertical-align: middle;\n    }\n\n    .dataframe tbody tr th {\n        vertical-align: top;\n    }\n\n    .dataframe thead th {\n        text-align: right;\n    }\n</style>\n<table border=\"1\" class=\"dataframe\">\n  <thead>\n    <tr style=\"text-align: right;\">\n      <th></th>\n      <th>reactants_mol</th>\n      <th>products_mol</th>\n      <th>reaction_type</th>\n      <th>set</th>\n    </tr>\n  </thead>\n  <tbody>\n    <tr>\n      <th>0</th>\n      <td>&lt;rdkit.Chem.rdchem.Mol object at 0x000001ED569...</td>\n      <td>&lt;rdkit.Chem.rdchem.Mol object at 0x000001ED7FC...</td>\n      <td>&lt;RX_1&gt;</td>\n      <td>train</td>\n    </tr>\n    <tr>\n      <th>1</th>\n      <td>&lt;rdkit.Chem.rdchem.Mol object at 0x000001ED569...</td>\n      <td>&lt;rdkit.Chem.rdchem.Mol object at 0x000001ED7FC...</td>\n      <td>&lt;RX_6&gt;</td>\n      <td>train</td>\n    </tr>\n    <tr>\n      <th>2</th>\n      <td>&lt;rdkit.Chem.rdchem.Mol object at 0x000001ED569...</td>\n      <td>&lt;rdkit.Chem.rdchem.Mol object at 0x000001ED7FC...</td>\n      <td>&lt;RX_9&gt;</td>\n      <td>train</td>\n    </tr>\n    <tr>\n      <th>3</th>\n      <td>&lt;rdkit.Chem.rdchem.Mol object at 0x000001ED569...</td>\n      <td>&lt;rdkit.Chem.rdchem.Mol object at 0x000001ED7FC...</td>\n      <td>&lt;RX_6&gt;</td>\n      <td>train</td>\n    </tr>\n    <tr>\n      <th>4</th>\n      <td>&lt;rdkit.Chem.rdchem.Mol object at 0x000001ED569...</td>\n      <td>&lt;rdkit.Chem.rdchem.Mol object at 0x000001ED7FC...</td>\n      <td>&lt;RX_1&gt;</td>\n      <td>train</td>\n    </tr>\n  </tbody>\n</table>\n</div>"
     },
     "metadata": {},
     "execution_count": 9
    }
   ],
   "source": [
    "uspto_50_df.head()"
   ]
  },
  {
   "cell_type": "code",
   "execution_count": 10,
   "metadata": {},
   "outputs": [],
   "source": [
    "reacts_mol = uspto_50_df[\"reactants_mol\"].tolist()\n",
    "sets = uspto_50_df[\"set\"].tolist()"
   ]
  },
  {
   "cell_type": "code",
   "execution_count": 11,
   "metadata": {},
   "outputs": [],
   "source": [
    "reacts_mol_test = [mol for idx, mol in enumerate(reacts_mol) if sets[idx] == \"test\"]"
   ]
  },
  {
   "cell_type": "code",
   "execution_count": 13,
   "metadata": {
    "tags": []
   },
   "outputs": [
    {
     "output_type": "stream",
     "name": "stdout",
     "text": "Length of test dataset: 5004\n"
    }
   ],
   "source": [
    "reacts_test = [Chem.MolToSmiles(mol) for mol in reacts_mol_test]\n",
    "print(f\"Length of test dataset: {len(reacts_test)}\")"
   ]
  },
  {
   "cell_type": "code",
   "execution_count": 14,
   "metadata": {},
   "outputs": [],
   "source": [
    "output_str = \"\\n\".join(reacts_test)"
   ]
  },
  {
   "cell_type": "code",
   "execution_count": 16,
   "metadata": {},
   "outputs": [
    {
     "output_type": "execute_result",
     "data": {
      "text/plain": "259297"
     },
     "metadata": {},
     "execution_count": 16
    }
   ],
   "source": [
    "p = Path(USPTO_50_TEST_TEXT_PATH)\n",
    "p.write_text(output_str)"
   ]
  },
  {
   "cell_type": "code",
   "execution_count": null,
   "metadata": {},
   "outputs": [],
   "source": []
  }
 ],
 "metadata": {
  "language_info": {
   "codemirror_mode": {
    "name": "ipython",
    "version": 3
   },
   "file_extension": ".py",
   "mimetype": "text/x-python",
   "name": "python",
   "nbconvert_exporter": "python",
   "pygments_lexer": "ipython3",
   "version": "3.7.4-final"
  },
  "orig_nbformat": 2,
  "kernelspec": {
   "name": "python3",
   "display_name": "Python 3"
  }
 },
 "nbformat": 4,
 "nbformat_minor": 2
}