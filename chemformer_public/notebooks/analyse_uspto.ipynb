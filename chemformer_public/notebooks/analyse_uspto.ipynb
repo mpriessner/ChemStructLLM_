{
 "cells": [
  {
   "cell_type": "code",
   "execution_count": null,
   "metadata": {},
   "outputs": [],
   "source": [
    "import sys\n",
    "import pickle\n",
    "import pandas as pd\n",
    "from pathlib import Path\n",
    "from rdkit import Chem"
   ]
  },
  {
   "cell_type": "code",
   "execution_count": null,
   "metadata": {},
   "outputs": [],
   "source": [
    "sys.path.append(\"..\")"
   ]
  },
  {
   "cell_type": "code",
   "execution_count": null,
   "metadata": {},
   "outputs": [],
   "source": [
    "import molbart\n",
    "from molbart.tokeniser import MolEncTokeniser"
   ]
  },
  {
   "cell_type": "code",
   "execution_count": null,
   "metadata": {},
   "outputs": [],
   "source": [
    "PICKLE_PATH = \"../../data/uspto_mixed.pickle\"\n",
    "VOCAB_PATH = \"../bart_vocab.txt\"\n",
    "CHEM_TOKEN_START_IDX = 272\n",
    "REGEX = \"\\[[^\\]]+]|Br?|Cl?|N|O|S|P|F|I|b|c|n|o|s|p|\\(|\\)|\\.|=|#|-|\\+|\\\\\\\\|\\/|:|~|@|\\?|>|\\*|\\$|\\%[0-9]{2}|[0-9]\""
   ]
  },
  {
   "cell_type": "code",
   "execution_count": null,
   "metadata": {},
   "outputs": [],
   "source": [
    "df = pd.read_pickle(PICKLE_PATH)"
   ]
  },
  {
   "cell_type": "code",
   "execution_count": null,
   "metadata": {},
   "outputs": [],
   "source": [
    "df.head()"
   ]
  },
  {
   "cell_type": "code",
   "execution_count": null,
   "metadata": {},
   "outputs": [],
   "source": [
    "tokeniser = MolEncTokeniser.from_vocab_file(VOCAB_PATH, REGEX, CHEM_TOKEN_START_IDX)"
   ]
  },
  {
   "cell_type": "code",
   "execution_count": null,
   "metadata": {},
   "outputs": [],
   "source": [
    "reacts = df[\"reactants\"]\n",
    "react_mols = df[\"reactants_mol\"]\n",
    "reacts_smiles = [Chem.MolToSmiles(mol) for mol in react_mols]"
   ]
  },
  {
   "cell_type": "code",
   "execution_count": null,
   "metadata": {},
   "outputs": [],
   "source": [
    "prods = df[\"products\"]\n",
    "prod_mols = df[\"products_mol\"]\n",
    "prods_smiles = [Chem.MolToSmiles(mol) for mol in prod_mols]"
   ]
  },
  {
   "cell_type": "code",
   "execution_count": null,
   "metadata": {
    "tags": []
   },
   "outputs": [],
   "source": [
    "non_can_reacts = [(react == react_smi, react, react_smi) for react, react_smi in zip(reacts, reacts_smiles)]\n",
    "non_can_reacts = [(react, react_smi) for eq, react, react_smi in non_can_reacts if not eq]\n",
    "print(f\"Non-canonical reactants: {len(non_can_reacts)}\")"
   ]
  },
  {
   "cell_type": "code",
   "execution_count": null,
   "metadata": {
    "tags": []
   },
   "outputs": [],
   "source": [
    "non_can_prods = [(prod == prod_smi, prod, prod_smi) for prod, prod_smi in zip(prods, prods_smiles)]\n",
    "non_can_prods = [(prod, prod_smi) for eq, prod, prod_smi in non_can_prods if not eq]\n",
    "print(f\"Non-canonical products: {len(non_can_prods)}\")"
   ]
  },
  {
   "cell_type": "code",
   "execution_count": null,
   "metadata": {
    "tags": [
     "outputPrepend"
    ]
   },
   "outputs": [],
   "source": [
    "for react, react_smi in non_can_reacts:\n",
    "    print(react)\n",
    "    print(react_smi)\n",
    "    print()"
   ]
  },
  {
   "cell_type": "code",
   "execution_count": null,
   "metadata": {
    "tags": []
   },
   "outputs": [],
   "source": [
    "for prod, prod_smi in non_can_prods:\n",
    "    print(prod)\n",
    "    print(prod_smi)\n",
    "    print()"
   ]
  },
  {
   "cell_type": "code",
   "execution_count": null,
   "metadata": {},
   "outputs": [],
   "source": [
    "# **************************\n",
    "# *** Tokeniser Analysis ***\n",
    "# **************************"
   ]
  },
  {
   "cell_type": "code",
   "execution_count": null,
   "metadata": {},
   "outputs": [],
   "source": [
    "mols = reacts_smiles[:10]\n",
    "tokens = tokeniser.tokenise(mols)"
   ]
  },
  {
   "cell_type": "code",
   "execution_count": null,
   "metadata": {
    "tags": []
   },
   "outputs": [],
   "source": [
    "for i in range(len(mols)):\n",
    "    print(mols[i])\n",
    "    print(tokens[\"original_tokens\"][i])\n",
    "    print()"
   ]
  },
  {
   "cell_type": "code",
   "execution_count": null,
   "metadata": {},
   "outputs": [],
   "source": [
    "MOL_OPT_DATA_PATH = \"../../data/mol_opt.csv\""
   ]
  },
  {
   "cell_type": "code",
   "execution_count": null,
   "metadata": {},
   "outputs": [],
   "source": [
    "opt_df = pd.read_csv(MOL_OPT_DATA_PATH)"
   ]
  },
  {
   "cell_type": "code",
   "execution_count": null,
   "metadata": {},
   "outputs": [],
   "source": [
    "opt_df.head()"
   ]
  },
  {
   "cell_type": "code",
   "execution_count": null,
   "metadata": {},
   "outputs": [],
   "source": [
    "mol_opts = opt_df[\"Input\"][:5]"
   ]
  },
  {
   "cell_type": "code",
   "execution_count": null,
   "metadata": {},
   "outputs": [],
   "source": [
    "import re"
   ]
  },
  {
   "cell_type": "code",
   "execution_count": null,
   "metadata": {},
   "outputs": [],
   "source": [
    "prog = re.compile(\"(\\[[^\\]]+]|Br?|Cl?|N|O|S|P|F|I|b|c|n|o|s|p|\\(|\\)|\\.|=|#|-|\\+|\\\\\\\\|\\/|:|~|@|\\?|>|\\*|\\$|\\%[0-9]{2}|[0-9])\")"
   ]
  },
  {
   "cell_type": "code",
   "execution_count": null,
   "metadata": {
    "tags": []
   },
   "outputs": [],
   "source": [
    "for smi in mols:\n",
    "    tokens = prog.findall(smi)\n",
    "    print(smi)\n",
    "    print(tokens)\n",
    "    print()"
   ]
  },
  {
   "cell_type": "code",
   "execution_count": null,
   "metadata": {},
   "outputs": [],
   "source": [
    "extra_tokens = [\"LogD_change_\\(-0.5, -0.3\\]\", \"Solubility_low->high\", \"Clint_no_change\", \"Solubility_no_change\", \"Clint_low->high\", \"LogD_change_\\(0.5, 0.7\\]\", \"LogD_change_\\(-0.1, 0.1\\]\", \"LogD_change_\\(0.3, 0.5\\]\"]"
   ]
  },
  {
   "cell_type": "code",
   "execution_count": null,
   "metadata": {
    "tags": []
   },
   "outputs": [],
   "source": [
    "regex = \"\\[[^\\]]+]|Br?|Cl?|N|O|S|P|F|I|b|c|n|o|s|p|\\(|\\)|\\.|=|#|-|\\+|\\\\\\\\|\\/|:|~|@|\\?|>|\\*|\\$|\\%[0-9]{2}|[0-9]\"\n",
    "for token in extra_tokens:\n",
    "    regex = f\"{token}|\" + regex \n",
    "\n",
    "regex = \"(\" + regex + \")\"\n",
    "print(regex)"
   ]
  },
  {
   "cell_type": "code",
   "execution_count": null,
   "metadata": {},
   "outputs": [],
   "source": [
    "prog = re.compile(regex)"
   ]
  },
  {
   "cell_type": "code",
   "execution_count": null,
   "metadata": {
    "tags": []
   },
   "outputs": [],
   "source": [
    "for smi in mols:\n",
    "    tokens = prog.findall(smi)\n",
    "    print(smi)\n",
    "    print(tokens)\n",
    "    print()"
   ]
  },
  {
   "cell_type": "code",
   "execution_count": null,
   "metadata": {
    "tags": []
   },
   "outputs": [],
   "source": [
    "for smi in mol_opts:\n",
    "    tokens = prog.findall(smi)\n",
    "    print(smi)\n",
    "    print(tokens)\n",
    "    print()"
   ]
  },
  {
   "cell_type": "code",
   "execution_count": null,
   "metadata": {},
   "outputs": [],
   "source": [
    "from pysmilesutils.tokenize import SMILESTokenizer"
   ]
  },
  {
   "cell_type": "code",
   "execution_count": null,
   "metadata": {},
   "outputs": [],
   "source": [
    "MOL_OPT_TOKENS_PATH = \"../mol_opt_tokens.txt\""
   ]
  },
  {
   "cell_type": "code",
   "execution_count": null,
   "metadata": {},
   "outputs": [],
   "source": [
    "def read_extra_tokens(paths):\n",
    "    extra_tokens = []\n",
    "    for path in paths:\n",
    "        text = Path(path).read_text()\n",
    "        tokens = text.split(\"\\n\")\n",
    "        tokens = [token for token in tokens if token != \"\"]\n",
    "        print(f\"Read {len(tokens)} tokens from {path}\")\n",
    "        extra_tokens.extend(tokens)\n",
    "\n",
    "    return extra_tokens"
   ]
  },
  {
   "cell_type": "code",
   "execution_count": null,
   "metadata": {
    "tags": []
   },
   "outputs": [],
   "source": [
    "regex = \"\\[[^\\]]+]|Br?|Cl?|N|O|S|P|F|I|b|c|n|o|s|p|\\(|\\)|\\.|=|#|-|\\+|\\\\\\\\|\\/|:|~|@|\\?|>|\\*|\\$|\\%[0-9]{2}|[0-9]\"\n",
    "extra_tokens = read_extra_tokens([MOL_OPT_TOKENS_PATH])"
   ]
  },
  {
   "cell_type": "code",
   "execution_count": null,
   "metadata": {
    "tags": []
   },
   "outputs": [],
   "source": [
    "print(extra_tokens[:5])"
   ]
  },
  {
   "cell_type": "code",
   "execution_count": null,
   "metadata": {},
   "outputs": [],
   "source": [
    "mol_opts = [mol_opts[i] for i in range(len(mol_opts))]\n",
    "smiles = mols + mol_opts\n",
    "rx_tokeniser = SMILESTokenizer(smiles=smiles, tokens=extra_tokens, regex_tokens=[regex])"
   ]
  },
  {
   "cell_type": "code",
   "execution_count": null,
   "metadata": {
    "tags": []
   },
   "outputs": [],
   "source": [
    "opt_tokens = rx_tokeniser.tokenize(mol_opts)\n",
    "for mol_opt, tokens in zip(mol_opts, opt_tokens):\n",
    "    print(mol_opt)\n",
    "    print(tokens)\n",
    "    print()"
   ]
  },
  {
   "cell_type": "code",
   "execution_count": null,
   "metadata": {
    "tags": []
   },
   "outputs": [],
   "source": [
    "mol_tokens = rx_tokeniser.tokenize(mols)\n",
    "for mol, tokens in zip(mols, mol_tokens):\n",
    "    print(mol)\n",
    "    print(tokens)\n",
    "    print()"
   ]
  },
  {
   "cell_type": "code",
   "execution_count": null,
   "metadata": {},
   "outputs": [],
   "source": [
    "MOL_OPT_TOKENISER_PATH = \"../../tokenisers/mol_opt_tokeniser.pickle\""
   ]
  },
  {
   "cell_type": "code",
   "execution_count": null,
   "metadata": {},
   "outputs": [],
   "source": [
    "mol_opt_tokeniser = load_tokeniser(MOL_OPT_TOKENISER_PATH)"
   ]
  },
  {
   "cell_type": "code",
   "execution_count": null,
   "metadata": {
    "tags": []
   },
   "outputs": [],
   "source": [
    "opt_tokens = mol_opt_tokeniser.tokenise(mol_opts)[\"original_tokens\"]\n",
    "for mol_opt, tokens in zip(mol_opts, opt_tokens):\n",
    "    print(mol_opt)\n",
    "    print(tokens)\n",
    "    print()"
   ]
  },
  {
   "cell_type": "code",
   "execution_count": null,
   "metadata": {
    "tags": []
   },
   "outputs": [],
   "source": [
    "mol_tokens = mol_opt_tokeniser.tokenise(mols)[\"original_tokens\"]\n",
    "for mol, tokens in zip(mols, mol_tokens):\n",
    "    print(mol)\n",
    "    print(tokens)\n",
    "    print()"
   ]
  },
  {
   "cell_type": "code",
   "execution_count": null,
   "metadata": {},
   "outputs": [],
   "source": []
  }
 ],
 "metadata": {
  "language_info": {
   "codemirror_mode": {
    "name": "ipython",
    "version": 3
   },
   "file_extension": ".py",
   "mimetype": "text/x-python",
   "name": "python",
   "nbconvert_exporter": "python",
   "pygments_lexer": "ipython3",
   "version": 3
  },
  "orig_nbformat": 2,
  "kernelspec": {
   "name": "python_defaultSpec_1611569746735",
   "display_name": "Python 3.7.4 64-bit ('mol-enc': conda)"
  }
 },
 "nbformat": 4,
 "nbformat_minor": 2
}