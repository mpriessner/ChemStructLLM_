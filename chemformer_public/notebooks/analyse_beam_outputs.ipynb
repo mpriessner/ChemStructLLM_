{
 "cells": [
  {
   "cell_type": "code",
   "execution_count": 3,
   "metadata": {},
   "outputs": [],
   "source": [
    "import pandas as pd\n",
    "from rdkit import Chem"
   ]
  },
  {
   "cell_type": "code",
   "execution_count": 4,
   "metadata": {},
   "outputs": [],
   "source": [
    "P0_0_EPOCHS_PATH = \"../tb_logs/uspto_50_p0_0_out.pickle\"\n",
    "P0_25_EPOCHS_PATH = \"../tb_logs/uspto_50_p0_25_out.pickle\"\n",
    "P0_5_EPOCHS_PATH = \"../tb_logs/uspto_50_p0_5_out.pickle\"\n",
    "P0_75_EPOCHS_PATH = \"../tb_logs/uspto_50_p0_75_out.pickle\"\n",
    "P1_0_EPOCHS_PATH = \"../tb_logs/uspto_50_p1_0_out.pickle\"\n",
    "NUM_BEAMS = 10"
   ]
  },
  {
   "cell_type": "code",
   "execution_count": 5,
   "metadata": {},
   "outputs": [],
   "source": [
    "df_p0_epochs = pd.read_pickle(P0_0_EPOCHS_PATH)\n",
    "df_p25_epochs = pd.read_pickle(P0_25_EPOCHS_PATH)\n",
    "df_p5_epochs = pd.read_pickle(P0_5_EPOCHS_PATH)\n",
    "df_p75_epochs = pd.read_pickle(P0_75_EPOCHS_PATH)\n",
    "df_p1_epochs = pd.read_pickle(P1_0_EPOCHS_PATH)"
   ]
  },
  {
   "cell_type": "code",
   "execution_count": 6,
   "metadata": {},
   "outputs": [
    {
     "output_type": "execute_result",
     "data": {
      "text/plain": "                                     original_smiles  \\\n0               C1=COCCC1.COC(=O)CCC(=O)c1ccc(O)cc1O   \n1                 COC(=O)c1cccc(C(=O)O)c1.Nc1cccnc1N   \n2               CC(C)(C)OC(=O)NC1CCC(C(=O)O)CC1.CNOC   \n3            Nc1ccc(O)cc1.O=[N+]([O-])c1ccc(Cl)nc1Cl   \n4  [N-]=[N+]=NCC1=CC[C@@H](c2ccc(Cl)cc2Cl)[C@H]([...   \n\n                                        prediction_0  log_likelihood_0  \\\n0            COc1ccc(C(=O)CCC(=O)OCC23CCOC=C3)c(O)c1         -0.632512   \n1                COC(=O)c1cccc(C(=O)OC)c1ONc1cccnc1N         -0.425786   \n2                CONCC1CC(C(=O)O)CCC1NC(=O)OC(C)(C)C         -0.493414   \n3          COc1ccc(N)c(O=[N+]([O-])c2ccc(Cl)nc2Cl)c1         -0.001583   \n4  O=[N+]([O-])C1CC(CBr)=CC[C@H]1c1ccc(Cl)cc1Cl.[...         -0.074637   \n\n                                        prediction_1  log_likelihood_1  \\\n0             O=C(O)CCC(=O)c1ccc(O)cc1O.OCC12CCOC=C1         -1.310090   \n1                 COC(=O)c1cccc(C(=O)OC)c1Nc1cccnc1N         -1.520340   \n2             CONCC1CC(C(=O)O)CCC1NC(=O)OC(C)(C)C.CI         -2.401353   \n3      COc1ccc(N)c(O=O)c1.O=[N+]([O-])c1ccc(Cl)nc1Cl         -7.334340   \n4  O=[N+]([O-])[C@@H]1CC(CBr)=CC[C@H]1c1ccc(Cl)cc...         -3.081168   \n\n                                        prediction_2  log_likelihood_2  \\\n0           COc1ccc(C(=O)CCC(=O)OCC23C=COCCC3)c(O)c1         -2.286182   \n1  COC(=O)c1cccc(C(=O)OC)c1OS(=O)(=O)C(F)(F)F.Nc1...         -2.281451   \n2         CONCC1CC(C(=O)O)CCC1NC(=O)OC(C)(C)C.C[Mg+]         -2.517550   \n3          COc1ccc(N)c(OP(=O)([O-])c2ccc(Cl)nc2Cl)c1         -8.387585   \n4  O=[N+]([O-])C1=CC[C@@H](c2ccc(Cl)cc2Cl)[C@H](C...         -4.771517   \n\n                                        prediction_3  log_likelihood_3  \\\n0       CC(=O)Oc1ccc(C(=O)CCC(=O)OCC23CCOC=C3)c(O)c1         -3.468004   \n1       COC(=O)c1cccc(C(=O)O)c1Nc1cccnc1[N+](=O)[O-]         -5.634051   \n2             CONCC1CC(C(=O)O)CCC1NC(=O)OC(C)(C)C.CO         -2.596220   \n3  COc1ccc([N+](=O)[O-])c(O=[N+]([O-])c2ccc(Cl)nc...         -8.406156   \n4  O=[N+]([O-])C1=C(CBr)CC[C@H]1c1ccc(Cl)cc1Cl.[N...         -5.571581   \n\n                                        prediction_4  ...  \\\n0              O=C(O)CCC(=O)c1ccc(O)cc1O.OCC1CCOC=C1  ...   \n1    COC(=O)c1cccc(C(=O)OC)c1OP(=O)(OC)OC.Nc1ncccc1N  ...   \n2               CC(C)(C)OC(=O)NC1CCC(C(=O)O)CC1=CNOC  ...   \n3                     COc1ccc(N)c(-c2ccc(Cl)nc2Cl)c1  ...   \n4  O=[N+]([O-])C1=CC[C@@H](c2ccc(Cl)cc2Cl)[C@H]([...  ...   \n\n                                        prediction_5 log_likelihood_5  \\\n0         O=C(O)CCC(=O)c1ccc(O)cc1O.OCC12CCOC=C1)CC2        -4.600265   \n1  COC(=O)c1cccc(C(=O)O)c1OS(=O)(=O)C(F)(F)F.Nc1c...        -5.886152   \n2  CONCC1CC(C(=O)O)CCC1NC(=O)OC(C)(C)C.CC(C)(C)OC...        -3.226471   \n3  COc1ccc(N)c(OP(=O)(OC)OC)c1.O=[N+]([O-])c1ccc(...        -8.839936   \n4  O=[N+]([O-])C1=CCC(CBr)=CC[C@H]1c1ccc(Cl)cc1Cl...        -5.909304   \n\n                                        prediction_6 log_likelihood_6  \\\n0          COc1ccc(C(=O)CCC(=O)OCC23C=COCCC23)c(O)c1        -4.835839   \n1                  COC(=O)c1cccc(C(=O)O)c1Nc1cccnc1N        -5.938162   \n2  CONCC1CC(C(=O)O)CCC1NC(=O)OC(C)(C)C.C[S+](C)(C)=O        -3.704719   \n3            COc1ccc(N)c(O[SiH](=O)c2ccc(Cl)nc2Cl)c1        -8.908441   \n4  O=[N+]([O-])C1=CCC(c2ccc(Cl)cc2Cl)C(Br)C1.[N-]...        -6.451925   \n\n                                        prediction_7 log_likelihood_7  \\\n0  CC(C)(C)[Si](C)(C)Oc1ccc(C(=O)CCC(=O)OCC23CCOC...        -5.044943   \n1      COC(=O)c1cccc(C(=O)OC)c1Nc1cccnc1[N+](=O)[O-]        -6.043156   \n2        CONCC1CC(C(=O)O)CCC1NC(=O)OC(C)(C)C.CC(C)=O        -4.996737   \n3  COc1ccc(N)c(O[N+](=O)[O-])c1.O=[N+]([O-])c1ccc...       -11.062937   \n4  O=[N+]([O-])C1CC(CCl)=CC[C@H]1c1ccc(Cl)cc1Cl.[...        -6.518768   \n\n                                        prediction_8 log_likelihood_8  \\\n0        O=C(O)CCC(=O)c1ccc(O)cc1O.OCC12CCOC=C1CCOC2        -5.193222   \n1     COC(=O)c1cccc(C(=O)OC)c1O[C@@](C)(C)Nc1cccnc1N        -6.091655   \n2  CONCC1CC(C(=O)O)CCC1NC(=O)OC(C)(C)C.C[Si](C)(C...        -6.355743   \n3  Cc1ccc(S(=O)(=O)O)cc1.Nc1ccc(O)cc1O=[N+]([O-])...       -11.661820   \n4  O=[N+]([O-])[C@@H]1CC(CCl)=CC[C@H]1c1ccc(Cl)cc...        -6.634620   \n\n                                        prediction_9 log_likelihood_9  \n0           O=C(O)CCC(=O)c1ccc(O)cc1O.OCC12C=COCCC12        -5.657456  \n1    COC(=O)c1cccc(C(=O)OC)c1OP(=O)(OC)OC.Nc1cccnc1N        -6.240756  \n2        CONCC1CC(C(=O)O)CCC1NC(=O)OC(C)(C)C.CC(=O)O        -6.467879  \n3  COc1ccc(N)c(O[SiH](=O)[O-])c1.O=[N+]([O-])c1cc...       -12.660985  \n4         O=[N+]([O-])C1=CCC(CBr)=CC1.[N-]=[N+]=[N-]        -6.965924  \n\n[5 rows x 21 columns]",
      "text/html": "<div>\n<style scoped>\n    .dataframe tbody tr th:only-of-type {\n        vertical-align: middle;\n    }\n\n    .dataframe tbody tr th {\n        vertical-align: top;\n    }\n\n    .dataframe thead th {\n        text-align: right;\n    }\n</style>\n<table border=\"1\" class=\"dataframe\">\n  <thead>\n    <tr style=\"text-align: right;\">\n      <th></th>\n      <th>original_smiles</th>\n      <th>prediction_0</th>\n      <th>log_likelihood_0</th>\n      <th>prediction_1</th>\n      <th>log_likelihood_1</th>\n      <th>prediction_2</th>\n      <th>log_likelihood_2</th>\n      <th>prediction_3</th>\n      <th>log_likelihood_3</th>\n      <th>prediction_4</th>\n      <th>...</th>\n      <th>prediction_5</th>\n      <th>log_likelihood_5</th>\n      <th>prediction_6</th>\n      <th>log_likelihood_6</th>\n      <th>prediction_7</th>\n      <th>log_likelihood_7</th>\n      <th>prediction_8</th>\n      <th>log_likelihood_8</th>\n      <th>prediction_9</th>\n      <th>log_likelihood_9</th>\n    </tr>\n  </thead>\n  <tbody>\n    <tr>\n      <th>0</th>\n      <td>C1=COCCC1.COC(=O)CCC(=O)c1ccc(O)cc1O</td>\n      <td>COc1ccc(C(=O)CCC(=O)OCC23CCOC=C3)c(O)c1</td>\n      <td>-0.632512</td>\n      <td>O=C(O)CCC(=O)c1ccc(O)cc1O.OCC12CCOC=C1</td>\n      <td>-1.310090</td>\n      <td>COc1ccc(C(=O)CCC(=O)OCC23C=COCCC3)c(O)c1</td>\n      <td>-2.286182</td>\n      <td>CC(=O)Oc1ccc(C(=O)CCC(=O)OCC23CCOC=C3)c(O)c1</td>\n      <td>-3.468004</td>\n      <td>O=C(O)CCC(=O)c1ccc(O)cc1O.OCC1CCOC=C1</td>\n      <td>...</td>\n      <td>O=C(O)CCC(=O)c1ccc(O)cc1O.OCC12CCOC=C1)CC2</td>\n      <td>-4.600265</td>\n      <td>COc1ccc(C(=O)CCC(=O)OCC23C=COCCC23)c(O)c1</td>\n      <td>-4.835839</td>\n      <td>CC(C)(C)[Si](C)(C)Oc1ccc(C(=O)CCC(=O)OCC23CCOC...</td>\n      <td>-5.044943</td>\n      <td>O=C(O)CCC(=O)c1ccc(O)cc1O.OCC12CCOC=C1CCOC2</td>\n      <td>-5.193222</td>\n      <td>O=C(O)CCC(=O)c1ccc(O)cc1O.OCC12C=COCCC12</td>\n      <td>-5.657456</td>\n    </tr>\n    <tr>\n      <th>1</th>\n      <td>COC(=O)c1cccc(C(=O)O)c1.Nc1cccnc1N</td>\n      <td>COC(=O)c1cccc(C(=O)OC)c1ONc1cccnc1N</td>\n      <td>-0.425786</td>\n      <td>COC(=O)c1cccc(C(=O)OC)c1Nc1cccnc1N</td>\n      <td>-1.520340</td>\n      <td>COC(=O)c1cccc(C(=O)OC)c1OS(=O)(=O)C(F)(F)F.Nc1...</td>\n      <td>-2.281451</td>\n      <td>COC(=O)c1cccc(C(=O)O)c1Nc1cccnc1[N+](=O)[O-]</td>\n      <td>-5.634051</td>\n      <td>COC(=O)c1cccc(C(=O)OC)c1OP(=O)(OC)OC.Nc1ncccc1N</td>\n      <td>...</td>\n      <td>COC(=O)c1cccc(C(=O)O)c1OS(=O)(=O)C(F)(F)F.Nc1c...</td>\n      <td>-5.886152</td>\n      <td>COC(=O)c1cccc(C(=O)O)c1Nc1cccnc1N</td>\n      <td>-5.938162</td>\n      <td>COC(=O)c1cccc(C(=O)OC)c1Nc1cccnc1[N+](=O)[O-]</td>\n      <td>-6.043156</td>\n      <td>COC(=O)c1cccc(C(=O)OC)c1O[C@@](C)(C)Nc1cccnc1N</td>\n      <td>-6.091655</td>\n      <td>COC(=O)c1cccc(C(=O)OC)c1OP(=O)(OC)OC.Nc1cccnc1N</td>\n      <td>-6.240756</td>\n    </tr>\n    <tr>\n      <th>2</th>\n      <td>CC(C)(C)OC(=O)NC1CCC(C(=O)O)CC1.CNOC</td>\n      <td>CONCC1CC(C(=O)O)CCC1NC(=O)OC(C)(C)C</td>\n      <td>-0.493414</td>\n      <td>CONCC1CC(C(=O)O)CCC1NC(=O)OC(C)(C)C.CI</td>\n      <td>-2.401353</td>\n      <td>CONCC1CC(C(=O)O)CCC1NC(=O)OC(C)(C)C.C[Mg+]</td>\n      <td>-2.517550</td>\n      <td>CONCC1CC(C(=O)O)CCC1NC(=O)OC(C)(C)C.CO</td>\n      <td>-2.596220</td>\n      <td>CC(C)(C)OC(=O)NC1CCC(C(=O)O)CC1=CNOC</td>\n      <td>...</td>\n      <td>CONCC1CC(C(=O)O)CCC1NC(=O)OC(C)(C)C.CC(C)(C)OC...</td>\n      <td>-3.226471</td>\n      <td>CONCC1CC(C(=O)O)CCC1NC(=O)OC(C)(C)C.C[S+](C)(C)=O</td>\n      <td>-3.704719</td>\n      <td>CONCC1CC(C(=O)O)CCC1NC(=O)OC(C)(C)C.CC(C)=O</td>\n      <td>-4.996737</td>\n      <td>CONCC1CC(C(=O)O)CCC1NC(=O)OC(C)(C)C.C[Si](C)(C...</td>\n      <td>-6.355743</td>\n      <td>CONCC1CC(C(=O)O)CCC1NC(=O)OC(C)(C)C.CC(=O)O</td>\n      <td>-6.467879</td>\n    </tr>\n    <tr>\n      <th>3</th>\n      <td>Nc1ccc(O)cc1.O=[N+]([O-])c1ccc(Cl)nc1Cl</td>\n      <td>COc1ccc(N)c(O=[N+]([O-])c2ccc(Cl)nc2Cl)c1</td>\n      <td>-0.001583</td>\n      <td>COc1ccc(N)c(O=O)c1.O=[N+]([O-])c1ccc(Cl)nc1Cl</td>\n      <td>-7.334340</td>\n      <td>COc1ccc(N)c(OP(=O)([O-])c2ccc(Cl)nc2Cl)c1</td>\n      <td>-8.387585</td>\n      <td>COc1ccc([N+](=O)[O-])c(O=[N+]([O-])c2ccc(Cl)nc...</td>\n      <td>-8.406156</td>\n      <td>COc1ccc(N)c(-c2ccc(Cl)nc2Cl)c1</td>\n      <td>...</td>\n      <td>COc1ccc(N)c(OP(=O)(OC)OC)c1.O=[N+]([O-])c1ccc(...</td>\n      <td>-8.839936</td>\n      <td>COc1ccc(N)c(O[SiH](=O)c2ccc(Cl)nc2Cl)c1</td>\n      <td>-8.908441</td>\n      <td>COc1ccc(N)c(O[N+](=O)[O-])c1.O=[N+]([O-])c1ccc...</td>\n      <td>-11.062937</td>\n      <td>Cc1ccc(S(=O)(=O)O)cc1.Nc1ccc(O)cc1O=[N+]([O-])...</td>\n      <td>-11.661820</td>\n      <td>COc1ccc(N)c(O[SiH](=O)[O-])c1.O=[N+]([O-])c1cc...</td>\n      <td>-12.660985</td>\n    </tr>\n    <tr>\n      <th>4</th>\n      <td>[N-]=[N+]=NCC1=CC[C@@H](c2ccc(Cl)cc2Cl)[C@H]([...</td>\n      <td>O=[N+]([O-])C1CC(CBr)=CC[C@H]1c1ccc(Cl)cc1Cl.[...</td>\n      <td>-0.074637</td>\n      <td>O=[N+]([O-])[C@@H]1CC(CBr)=CC[C@H]1c1ccc(Cl)cc...</td>\n      <td>-3.081168</td>\n      <td>O=[N+]([O-])C1=CC[C@@H](c2ccc(Cl)cc2Cl)[C@H](C...</td>\n      <td>-4.771517</td>\n      <td>O=[N+]([O-])C1=C(CBr)CC[C@H]1c1ccc(Cl)cc1Cl.[N...</td>\n      <td>-5.571581</td>\n      <td>O=[N+]([O-])C1=CC[C@@H](c2ccc(Cl)cc2Cl)[C@H]([...</td>\n      <td>...</td>\n      <td>O=[N+]([O-])C1=CCC(CBr)=CC[C@H]1c1ccc(Cl)cc1Cl...</td>\n      <td>-5.909304</td>\n      <td>O=[N+]([O-])C1=CCC(c2ccc(Cl)cc2Cl)C(Br)C1.[N-]...</td>\n      <td>-6.451925</td>\n      <td>O=[N+]([O-])C1CC(CCl)=CC[C@H]1c1ccc(Cl)cc1Cl.[...</td>\n      <td>-6.518768</td>\n      <td>O=[N+]([O-])[C@@H]1CC(CCl)=CC[C@H]1c1ccc(Cl)cc...</td>\n      <td>-6.634620</td>\n      <td>O=[N+]([O-])C1=CCC(CBr)=CC1.[N-]=[N+]=[N-]</td>\n      <td>-6.965924</td>\n    </tr>\n  </tbody>\n</table>\n<p>5 rows × 21 columns</p>\n</div>"
     },
     "metadata": {},
     "execution_count": 6
    }
   ],
   "source": [
    "df_p0_epochs.head()"
   ]
  },
  {
   "cell_type": "code",
   "execution_count": 7,
   "metadata": {},
   "outputs": [],
   "source": [
    "def collect_predictions(df, num_beams):\n",
    "    preds = []\n",
    "    for idx in range(len(df.index)):\n",
    "        col_names = [f\"prediction_{beam}\" for beam in range(num_beams)]\n",
    "        elem_preds = df[col_names].iloc[idx].tolist()\n",
    "        preds.append(elem_preds)\n",
    "\n",
    "    return preds"
   ]
  },
  {
   "cell_type": "code",
   "execution_count": 8,
   "metadata": {},
   "outputs": [],
   "source": [
    "def is_same_mol(smi1, smi2):\n",
    "    mol1 = Chem.MolFromSmiles(smi1)\n",
    "    mol2 = Chem.MolFromSmiles(smi2)\n",
    "    canon1 = Chem.MolToSmiles(mol1) if mol1 is not None else \"invalid1\"\n",
    "    canon2 = Chem.MolToSmiles(mol2) if mol2 is not None else \"invalid2\"\n",
    "    return canon1 == canon2"
   ]
  },
  {
   "cell_type": "code",
   "execution_count": 9,
   "metadata": {},
   "outputs": [],
   "source": [
    "def count_same_mols(preds):\n",
    "    same_percs = []\n",
    "    for elem_preds in preds:\n",
    "        same_mol = [is_same_mol(elem_preds[0], smi) for smi in elem_preds]\n",
    "        same_perc = sum(same_mol) / len(same_mol)\n",
    "        same_percs.append(same_perc)\n",
    "\n",
    "    return same_percs"
   ]
  },
  {
   "cell_type": "code",
   "execution_count": 10,
   "metadata": {},
   "outputs": [],
   "source": [
    "def analyse_df(df, num_beams):\n",
    "    preds = collect_predictions(df, num_beams)\n",
    "    same_mol_percs = count_same_mols(preds)\n",
    "    avg_same_mol = sum(same_mol_percs) / len(same_mol_percs)\n",
    "    print(\"Number of molecules which are the same as top-1 prediction\")\n",
    "    print(f\"Average: {avg_same_mol}\")"
   ]
  },
  {
   "cell_type": "code",
   "execution_count": 11,
   "metadata": {
    "tags": []
   },
   "outputs": [
    {
     "output_type": "stream",
     "name": "stdout",
     "text": "Number of molecules which are the same as top-1 prediction\nAverage: 0.1194644284572413\n"
    }
   ],
   "source": [
    "analyse_df(df_p0_epochs, NUM_BEAMS)"
   ]
  },
  {
   "cell_type": "code",
   "execution_count": 12,
   "metadata": {
    "tags": []
   },
   "outputs": [
    {
     "output_type": "stream",
     "name": "stdout",
     "text": "Number of molecules which are the same as top-1 prediction\nAverage: 0.37088329336530246\n"
    }
   ],
   "source": [
    "analyse_df(df_p25_epochs, NUM_BEAMS)"
   ]
  },
  {
   "cell_type": "code",
   "execution_count": 13,
   "metadata": {
    "tags": []
   },
   "outputs": [
    {
     "output_type": "stream",
     "name": "stdout",
     "text": "Number of molecules which are the same as top-1 prediction\nAverage: 0.4206235011990349\n"
    }
   ],
   "source": [
    "analyse_df(df_p5_epochs, NUM_BEAMS)"
   ]
  },
  {
   "cell_type": "code",
   "execution_count": 14,
   "metadata": {
    "tags": []
   },
   "outputs": [
    {
     "output_type": "stream",
     "name": "stdout",
     "text": "Number of molecules which are the same as top-1 prediction\nAverage: 0.4493005595523533\n"
    }
   ],
   "source": [
    "analyse_df(df_p75_epochs, NUM_BEAMS)"
   ]
  },
  {
   "cell_type": "code",
   "execution_count": 15,
   "metadata": {
    "tags": []
   },
   "outputs": [
    {
     "output_type": "stream",
     "name": "stdout",
     "text": "Number of molecules which are the same as top-1 prediction\nAverage: 0.6929056754596333\n"
    }
   ],
   "source": [
    "analyse_df(df_p1_epochs, NUM_BEAMS)"
   ]
  },
  {
   "cell_type": "code",
   "execution_count": null,
   "metadata": {},
   "outputs": [],
   "source": []
  }
 ],
 "metadata": {
  "language_info": {
   "codemirror_mode": {
    "name": "ipython",
    "version": 3
   },
   "file_extension": ".py",
   "mimetype": "text/x-python",
   "name": "python",
   "nbconvert_exporter": "python",
   "pygments_lexer": "ipython3",
   "version": "3.7.4-final"
  },
  "orig_nbformat": 2,
  "kernelspec": {
   "name": "python3",
   "display_name": "Python 3"
  }
 },
 "nbformat": 4,
 "nbformat_minor": 2
}