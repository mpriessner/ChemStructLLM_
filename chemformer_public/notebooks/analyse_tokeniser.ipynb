{
 "cells": [
  {
   "cell_type": "code",
   "execution_count": 1,
   "metadata": {},
   "outputs": [],
   "source": [
    "import sys\n",
    "sys.path.append(\"..\")"
   ]
  },
  {
   "cell_type": "code",
   "execution_count": 2,
   "metadata": {},
   "outputs": [],
   "source": [
    "import pickle\n",
    "from pathlib import Path"
   ]
  },
  {
   "cell_type": "code",
   "execution_count": 3,
   "metadata": {},
   "outputs": [],
   "source": [
    "from molbart.tokeniser import MolEncTokeniser"
   ]
  },
  {
   "cell_type": "code",
   "execution_count": 7,
   "metadata": {},
   "outputs": [],
   "source": [
    "VOCAB_PATH = \"../bart_vocab.txt\"\n",
    "CHEM_TOKEN_START_IDX = 272\n",
    "REGEX = \"\\[[^\\]]+]|Br?|Cl?|N|O|S|P|F|I|b|c|n|o|s|p|\\(|\\)|\\.|=|#|-|\\+|\\\\\\\\|\\/|:|~|@|\\?|>|\\*|\\$|\\%[0-9]{2}|[0-9]\""
   ]
  },
  {
   "cell_type": "code",
   "execution_count": 8,
   "metadata": {
    "tags": []
   },
   "outputs": [],
   "source": [
    "tokeniser = MolEncTokeniser.from_vocab_file(VOCAB_PATH, REGEX, CHEM_TOKEN_START_IDX)"
   ]
  },
  {
   "cell_type": "code",
   "execution_count": 9,
   "metadata": {},
   "outputs": [],
   "source": [
    "example_smiles = [\n",
    "    \"O=C(NCc1ccc(OC(F)(F)F)cc1)C1CC(c2c(Cl)cccc2Cl)=NO1\",\n",
    "    \"Cc1onc(-c2ccc(Cl)o2)c1-c1ccccc1F\",\n",
    "    \"Cc1ccc(C(=O)Nc2cc(-c3c(-c4ccc(F)c(C)c4)nc4cccnn34)ccn2)cc1\",\n",
    "    \"COc1ccc(S(=O)(=O)Nc2ccc(-c3cncc4ccccc34)c(OC)c2)cc1\",\n",
    "    \"CC(=O)N1C[C@H](OCCC(c2ccccc2)c2ccccc2)C[C@H]1C(=O)N[C@@H](CCCN=C(N)N)C(=O)CCl\"\n",
    "]"
   ]
  },
  {
   "cell_type": "code",
   "execution_count": 10,
   "metadata": {
    "tags": []
   },
   "outputs": [
    {
     "output_type": "stream",
     "name": "stdout",
     "text": "O=C(NCc1ccc(OC(F)(F)F)cc1)C1CC(c2c(Cl)cccc2Cl)=NO1\n['^', 'O', '=', 'C', '(', 'N', 'C', 'c', '1', 'c', 'c', 'c', '(', 'O', 'C', '(', 'F', ')', '(', 'F', ')', 'F', ')', 'c', 'c', '1', ')', 'C', '1', 'C', 'C', '(', 'c', '2', 'c', '(', 'Cl', ')', 'c', 'c', 'c', 'c', '2', 'Cl', ')', '=', 'N', 'O', '1', '&']\n\nCc1onc(-c2ccc(Cl)o2)c1-c1ccccc1F\n['^', 'C', 'c', '1', 'o', 'n', 'c', '(', '-', 'c', '2', 'c', 'c', 'c', '(', 'Cl', ')', 'o', '2', ')', 'c', '1', '-', 'c', '1', 'c', 'c', 'c', 'c', 'c', '1', 'F', '&']\n\nCc1ccc(C(=O)Nc2cc(-c3c(-c4ccc(F)c(C)c4)nc4cccnn34)ccn2)cc1\n['^', 'C', 'c', '1', 'c', 'c', 'c', '(', 'C', '(', '=', 'O', ')', 'N', 'c', '2', 'c', 'c', '(', '-', 'c', '3', 'c', '(', '-', 'c', '4', 'c', 'c', 'c', '(', 'F', ')', 'c', '(', 'C', ')', 'c', '4', ')', 'n', 'c', '4', 'c', 'c', 'c', 'n', 'n', '3', '4', ')', 'c', 'c', 'n', '2', ')', 'c', 'c', '1', '&']\n\nCOc1ccc(S(=O)(=O)Nc2ccc(-c3cncc4ccccc34)c(OC)c2)cc1\n['^', 'C', 'O', 'c', '1', 'c', 'c', 'c', '(', 'S', '(', '=', 'O', ')', '(', '=', 'O', ')', 'N', 'c', '2', 'c', 'c', 'c', '(', '-', 'c', '3', 'c', 'n', 'c', 'c', '4', 'c', 'c', 'c', 'c', 'c', '3', '4', ')', 'c', '(', 'O', 'C', ')', 'c', '2', ')', 'c', 'c', '1', '&']\n\nCC(=O)N1C[C@H](OCCC(c2ccccc2)c2ccccc2)C[C@H]1C(=O)N[C@@H](CCCN=C(N)N)C(=O)CCl\n['^', 'C', 'C', '(', '=', 'O', ')', 'N', '1', 'C', '[C@H]', '(', 'O', 'C', 'C', 'C', '(', 'c', '2', 'c', 'c', 'c', 'c', 'c', '2', ')', 'c', '2', 'c', 'c', 'c', 'c', 'c', '2', ')', 'C', '[C@H]', '1', 'C', '(', '=', 'O', ')', 'N', '[C@@H]', '(', 'C', 'C', 'C', 'N', '=', 'C', '(', 'N', ')', 'N', ')', 'C', '(', '=', 'O', ')', 'C', 'Cl', '&']\n\n"
    }
   ],
   "source": [
    "for smi, tokens in zip(example_smiles, tokeniser.tokenise(example_smiles)[\"original_tokens\"]):\n",
    "    print(smi)\n",
    "    print(tokens)\n",
    "    print()"
   ]
  },
  {
   "cell_type": "code",
   "execution_count": 11,
   "metadata": {
    "tags": []
   },
   "outputs": [
    {
     "output_type": "stream",
     "name": "stdout",
     "text": "<PAD>     0\n?         1\n^         2\n&         3\n<MASK>    4\n<SEP>     5\nLogD_change_(-0.1, 0.1]6\nLogD_change_(0.1, 0.3]7\nLogD_change_(0.3, 0.5]8\nLogD_change_(0.5, 0.7]9\nLogD_change_(0.7, 0.9]10\nLogD_change_(0.9, 1.1]11\nLogD_change_(1.1, 1.3]12\nLogD_change_(1.3, 1.5]13\nLogD_change_(1.5, 1.7]14\nLogD_change_(1.7, 1.9]15\nLogD_change_(1.9, 2.1]16\nLogD_change_(2.1, 2.3]17\nLogD_change_(2.3, 2.5]18\nLogD_change_(2.5, 2.7]19\nLogD_change_(2.7, 2.9]20\nLogD_change_(2.9, 3.1]21\nLogD_change_(3.1, 3.3]22\nLogD_change_(3.3, 3.5]23\nLogD_change_(3.5, 3.7]24\nLogD_change_(3.7, 3.9]25\nLogD_change_(3.9, 4.1]26\nLogD_change_(4.1, 4.3]27\nLogD_change_(4.3, 4.5]28\nLogD_change_(4.5, 4.7]29\nLogD_change_(4.7, 4.9]30\nLogD_change_(4.9, 5.1]31\nLogD_change_(5.1, 5.3]32\nLogD_change_(5.3, 5.5]33\nLogD_change_(5.5, 5.7]34\nLogD_change_(5.7, 5.9]35\nLogD_change_(5.9, inf]36\nLogD_change_(-0.3, -0.1]37\nLogD_change_(-0.5, -0.3]38\nLogD_change_(-0.7, -0.5]39\nLogD_change_(-0.9, -0.7]40\nLogD_change_(-1.1, -0.9]41\nLogD_change_(-1.3, -1.1]42\nLogD_change_(-1.5, -1.3]43\nLogD_change_(-1.7, -1.5]44\nLogD_change_(-1.9, -1.7]45\nLogD_change_(-2.1, -1.9]46\nLogD_change_(-2.3, -2.1]47\nLogD_change_(-2.5, -2.3]48\nLogD_change_(-2.7, -2.5]49\nLogD_change_(-2.9, -2.7]50\nLogD_change_(-3.1, -2.9]51\nLogD_change_(-3.3, -3.1]52\nLogD_change_(-3.5, -3.3]53\nLogD_change_(-3.7, -3.5]54\nLogD_change_(-3.9, -3.7]55\nLogD_change_(-4.1, -3.9]56\nLogD_change_(-4.3, -4.1]57\nLogD_change_(-4.5, -4.3]58\nLogD_change_(-4.7, -4.5]59\nLogD_change_(-4.9, -4.7]60\nLogD_change_(-5.1, -4.9]61\nLogD_change_(-5.3, -5.1]62\nLogD_change_(-5.5, -5.3]63\nLogD_change_(-5.7, -5.5]64\nLogD_change_(-inf, -5.7]65\nSolubility_low->high66\nSolubility_high->low67\nSolubility_no_change68\nClint_low->high69\nClint_high->low70\nClint_no_change71\n<UNUSED_0>72\n<UNUSED_1>73\n<UNUSED_2>74\n<UNUSED_3>75\n<UNUSED_4>76\n<UNUSED_5>77\n<UNUSED_6>78\n<UNUSED_7>79\n<UNUSED_8>80\n<UNUSED_9>81\n<UNUSED_10>82\n<UNUSED_11>83\n<UNUSED_12>84\n<UNUSED_13>85\n<UNUSED_14>86\n<UNUSED_15>87\n<UNUSED_16>88\n<UNUSED_17>89\n<UNUSED_18>90\n<UNUSED_19>91\n<UNUSED_20>92\n<UNUSED_21>93\n<UNUSED_22>94\n<UNUSED_23>95\n<UNUSED_24>96\n<UNUSED_25>97\n<UNUSED_26>98\n<UNUSED_27>99\n<UNUSED_28>100\n<UNUSED_29>101\n<UNUSED_30>102\n<UNUSED_31>103\n<UNUSED_32>104\n<UNUSED_33>105\n<UNUSED_34>106\n<UNUSED_35>107\n<UNUSED_36>108\n<UNUSED_37>109\n<UNUSED_38>110\n<UNUSED_39>111\n<UNUSED_40>112\n<UNUSED_41>113\n<UNUSED_42>114\n<UNUSED_43>115\n<UNUSED_44>116\n<UNUSED_45>117\n<UNUSED_46>118\n<UNUSED_47>119\n<UNUSED_48>120\n<UNUSED_49>121\n<UNUSED_50>122\n<UNUSED_51>123\n<UNUSED_52>124\n<UNUSED_53>125\n<UNUSED_54>126\n<UNUSED_55>127\n<UNUSED_56>128\n<UNUSED_57>129\n<UNUSED_58>130\n<UNUSED_59>131\n<UNUSED_60>132\n<UNUSED_61>133\n<UNUSED_62>134\n<UNUSED_63>135\n<UNUSED_64>136\n<UNUSED_65>137\n<UNUSED_66>138\n<UNUSED_67>139\n<UNUSED_68>140\n<UNUSED_69>141\n<UNUSED_70>142\n<UNUSED_71>143\n<UNUSED_72>144\n<UNUSED_73>145\n<UNUSED_74>146\n<UNUSED_75>147\n<UNUSED_76>148\n<UNUSED_77>149\n<UNUSED_78>150\n<UNUSED_79>151\n<UNUSED_80>152\n<UNUSED_81>153\n<UNUSED_82>154\n<UNUSED_83>155\n<UNUSED_84>156\n<UNUSED_85>157\n<UNUSED_86>158\n<UNUSED_87>159\n<UNUSED_88>160\n<UNUSED_89>161\n<UNUSED_90>162\n<UNUSED_91>163\n<UNUSED_92>164\n<UNUSED_93>165\n<UNUSED_94>166\n<UNUSED_95>167\n<UNUSED_96>168\n<UNUSED_97>169\n<UNUSED_98>170\n<UNUSED_99>171\n<UNUSED_100>172\n<UNUSED_101>173\n<UNUSED_102>174\n<UNUSED_103>175\n<UNUSED_104>176\n<UNUSED_105>177\n<UNUSED_106>178\n<UNUSED_107>179\n<UNUSED_108>180\n<UNUSED_109>181\n<UNUSED_110>182\n<UNUSED_111>183\n<UNUSED_112>184\n<UNUSED_113>185\n<UNUSED_114>186\n<UNUSED_115>187\n<UNUSED_116>188\n<UNUSED_117>189\n<UNUSED_118>190\n<UNUSED_119>191\n<UNUSED_120>192\n<UNUSED_121>193\n<UNUSED_122>194\n<UNUSED_123>195\n<UNUSED_124>196\n<UNUSED_125>197\n<UNUSED_126>198\n<UNUSED_127>199\n<UNUSED_128>200\n<UNUSED_129>201\n<UNUSED_130>202\n<UNUSED_131>203\n<UNUSED_132>204\n<UNUSED_133>205\n<UNUSED_134>206\n<UNUSED_135>207\n<UNUSED_136>208\n<UNUSED_137>209\n<UNUSED_138>210\n<UNUSED_139>211\n<UNUSED_140>212\n<UNUSED_141>213\n<UNUSED_142>214\n<UNUSED_143>215\n<UNUSED_144>216\n<UNUSED_145>217\n<UNUSED_146>218\n<UNUSED_147>219\n<UNUSED_148>220\n<UNUSED_149>221\n<UNUSED_150>222\n<UNUSED_151>223\n<UNUSED_152>224\n<UNUSED_153>225\n<UNUSED_154>226\n<UNUSED_155>227\n<UNUSED_156>228\n<UNUSED_157>229\n<UNUSED_158>230\n<UNUSED_159>231\n<UNUSED_160>232\n<UNUSED_161>233\n<UNUSED_162>234\n<UNUSED_163>235\n<UNUSED_164>236\n<UNUSED_165>237\n<UNUSED_166>238\n<UNUSED_167>239\n<UNUSED_168>240\n<UNUSED_169>241\n<UNUSED_170>242\n<UNUSED_171>243\n<UNUSED_172>244\n<UNUSED_173>245\n<UNUSED_174>246\n<UNUSED_175>247\n<UNUSED_176>248\n<UNUSED_177>249\n<UNUSED_178>250\n<UNUSED_179>251\n<UNUSED_180>252\n<UNUSED_181>253\n<UNUSED_182>254\n<UNUSED_183>255\n<UNUSED_184>256\n<UNUSED_185>257\n<UNUSED_186>258\n<UNUSED_187>259\n<UNUSED_188>260\n<UNUSED_189>261\n<UNUSED_190>262\n<UNUSED_191>263\n<UNUSED_192>264\n<UNUSED_193>265\n<UNUSED_194>266\n<UNUSED_195>267\n<UNUSED_196>268\n<UNUSED_197>269\n<UNUSED_198>270\n<UNUSED_199>271\nC         272\nc         273\n1         274\n(         275\n-         276\n2         277\ns         278\nN         279\n=         280\n)         281\nn         282\nBr        283\n3         284\nO         285\n[nH]      286\n[C@H]     287\n/         288\n\\         289\n[C@@H]    290\n[C@]      291\no         292\n4         293\n[C@@]     294\n5         295\n6         296\n7         297\n[n+]      298\n.         299\n[Br-]     300\nS         301\nI         302\nF         303\nCl        304\n[O-]      305\n#         306\nP         307\n[Na+]     308\n[N+]      309\n[Cl-]     310\n8         311\n[Si]      312\n[N-]      313\n[18F]     314\n9         315\n[I-]      316\nB         317\n[S+]      318\n[2H]      319\n[P+]      320\n[125I]    321\n%10       322\n%11       323\n[n-]      324\n[B-]      325\n[O]       326\n[o+]      327\n[N@@+]    328\n[N@+]     329\n[PH]      330\n[se]      331\n[Se]      332\n[s+]      333\n[Li+]     334\n[P@]      335\n[P@@]     336\n[3H]      337\n[K+]      338\n[OH-]     339\n[te+]     340\n[se+]     341\n[Te]      342\n[S@+]     343\n[BH2-]    344\n[11CH3]   345\n[11C]     346\n[Cl+3]    347\n[N@@]     348\n[S-]      349\n[C+]      350\n[P@+]     351\n[C-]      352\n[Zn+2]    353\n[Ca+2]    354\n[Mg+2]    355\n[SeH]     356\n[BH-]     357\n[SH2]     358\n[TeH2]    359\n[SiH4]    360\n[N@]      361\n[14CH2]   362\n[Ag]      363\n[S@@+]    364\n[I+]      365\n[MgH2]    366\n[125IH]   367\n[Se+]     368\n[As]      369\n[SiH2]    370\n[Ra]      371\n[IH2]     372\n[P-]      373\n[Na]      374\n[NH-]     375\n[Cs]      376\n[Zn]      377\n[Li]      378\n[As+]     379\n[te]      380\n[131I]    381\n[Ag+]     382\np         383\n[Al-3]    384\n[Rb+]     385\n[13CH]    386\n[11CH]    387\n[11CH2]   388\n[14c]     389\n[14C@@]   390\n[127I]    391\n[Mg]      392\n[14C]     393\n[123I]    394\n[124I]    395\n[F-]      396\n[14CH3]   397\n[135I]    398\n%12       399\n[NH+]     400\n[76Br]    401\n[32PH]    402\n[35S]     403\nb         404\n[73Se]    405\n[11C@@H]  406\n[Se-]     407\n[c+]      408\n[14C@H]   409\n[18OH]    410\n[SH]      411\n[S@@]     412\n[Cs+]     413\n[He]      414\n[O+]      415\n[nH+]     416\n[NH2+]    417\n[32P]     418\n[Zn+]     419\n[BH3-]    420\n[I+3]     421\n[Si-]     422\n[SH+]     423\n[19F]     424\n[Br+2]    425\n[I+2]     426\n[Al+3]    427\n[123I-]   428\n[131I-]   429\n[127Xe]   430\n[133Xe]   431\n[89Sr+2]  432\n[N]       433\n[82Rb+]   434\n[75Se]    435\n[Rb]      436\n[81Kr]    437\n[18F-]    438\n[13NH3]   439\n[K]       440\n[Cl+2]    441\n[Zn-2]    442\n[SeH2]    443\n[AsH3]    444\n[Kr]      445\n[Xe]      446\n[S@]      447\n[cH-]     448\n[NH4+]    449\n[Al]      450\n[Si@]     451\n[15n]     452\n[SH-]     453\n[SiH]     454\n[11c]     455\n[OH]      456\n[c-]      457\n[18FH]    458\n[123IH]   459\n[13c]     460\n[13cH]    461\n[14cH]    462\n[Cl+]     463\n[Sr+2]    464\n[CH-]     465\n[Bi]      466\n[B]       467\n[Ba+2]    468\n[Bi+3]    469\n[SiH-]    470\n[b-]      471\n[H+]      472\n[13C]     473\n[OH+]     474\n[14CH]    475\n[15nH]    476\n[CaH2]    477\n[LiH]     478\n[C]       479\n[Ca]      480\n[42K+]    481\n[123Te]   482\n[S-2]     483\n[223Ra+2] 484\n[S]       485\n[Ra+2]    486\n[22Na+]   487\n[125I-]   488\n[85Sr+2]  489\n[PH2]     490\n[SrH2]    491\n[15OH2]   492\n[47Ca+2]  493\n[85SrH2]  494\n[45Ca+2]  495\n[B@@-]    496\n[B@-]     497\n[17F]     498\n[PH2+]    499\n[11C-]    500\n[Mg+]     501\n[NaH]     502\n[P@@+]    503\n[SiH3-]   504\n[P-3]     505\n[KH]      506\n[Be+2]    507\n[NH3+]    508\n[Ag-4]    509\n[18O]     510\n[14C@@H]  511\n[CH]      512\n[CH2]     513\n[O-2]     514\n[124I-]   515\n[As-]     516\n[Ba]      517\n[223Ra]   518\n[82Rb]    519\n[76BrH]   520\n[AsH]     521\n[131Cs]   522\n"
    }
   ],
   "source": [
    "for token, idx in tokeniser.vocab.items():\n",
    "    print(f\"{token:<10}{idx}\")"
   ]
  },
  {
   "cell_type": "code",
   "execution_count": 12,
   "metadata": {},
   "outputs": [],
   "source": [
    "example_mol_opts = [\n",
    "    \"LogD_change_(-0.5, -0.3]Solubility_low->highClint_no_changeO=C(NC1CCC(=O)N(C(CSc2ccccc2)Cc2ccccc2)CC1)OCc1ccccc1\",\n",
    "    \"LogD_change_(-0.5, -0.3]Solubility_no_changeClint_low->highCCCNC(=O)CCn1cc(-c2ccc(OC)cc2)nc1CCN\",\n",
    "    \"LogD_change_(0.5, 0.7]Solubility_no_changeClint_no_changeCc1cc(Nc2ccc(F)cc2)n2ncnc2n1\",\n",
    "    \"LogD_change_(-0.1, 0.1]Solubility_no_changeClint_no_changeCOc1ccc(C(=O)N2CCC(C(=O)Nc3ccc4c(c3)OCO4)CC2)cc1\",\n",
    "    \"LogD_change_(0.3, 0.5]Solubility_no_changeClint_no_changeCOCCOCc1cccc2nc(NC(=O)c3sc4c(C(C)=O)ccc(COC)c4c3C)ccc12\"\n",
    "]"
   ]
  },
  {
   "cell_type": "code",
   "execution_count": 13,
   "metadata": {
    "tags": []
   },
   "outputs": [
    {
     "output_type": "stream",
     "name": "stdout",
     "text": "LogD_change_(-0.5, -0.3]Solubility_low->highClint_no_changeO=C(NC1CCC(=O)N(C(CSc2ccccc2)Cc2ccccc2)CC1)OCc1ccccc1\n['^', 'LogD_change_(-0.5, -0.3]', 'Solubility_low->high', 'Clint_no_change', 'O', '=', 'C', '(', 'N', 'C', '1', 'C', 'C', 'C', '(', '=', 'O', ')', 'N', '(', 'C', '(', 'C', 'S', 'c', '2', 'c', 'c', 'c', 'c', 'c', '2', ')', 'C', 'c', '2', 'c', 'c', 'c', 'c', 'c', '2', ')', 'C', 'C', '1', ')', 'O', 'C', 'c', '1', 'c', 'c', 'c', 'c', 'c', '1', '&']\n\nLogD_change_(-0.5, -0.3]Solubility_no_changeClint_low->highCCCNC(=O)CCn1cc(-c2ccc(OC)cc2)nc1CCN\n['^', 'LogD_change_(-0.5, -0.3]', 'Solubility_no_change', 'Clint_low->high', 'C', 'C', 'C', 'N', 'C', '(', '=', 'O', ')', 'C', 'C', 'n', '1', 'c', 'c', '(', '-', 'c', '2', 'c', 'c', 'c', '(', 'O', 'C', ')', 'c', 'c', '2', ')', 'n', 'c', '1', 'C', 'C', 'N', '&']\n\nLogD_change_(0.5, 0.7]Solubility_no_changeClint_no_changeCc1cc(Nc2ccc(F)cc2)n2ncnc2n1\n['^', 'LogD_change_(0.5, 0.7]', 'Solubility_no_change', 'Clint_no_change', 'C', 'c', '1', 'c', 'c', '(', 'N', 'c', '2', 'c', 'c', 'c', '(', 'F', ')', 'c', 'c', '2', ')', 'n', '2', 'n', 'c', 'n', 'c', '2', 'n', '1', '&']\n\nLogD_change_(-0.1, 0.1]Solubility_no_changeClint_no_changeCOc1ccc(C(=O)N2CCC(C(=O)Nc3ccc4c(c3)OCO4)CC2)cc1\n['^', 'LogD_change_(-0.1, 0.1]', 'Solubility_no_change', 'Clint_no_change', 'C', 'O', 'c', '1', 'c', 'c', 'c', '(', 'C', '(', '=', 'O', ')', 'N', '2', 'C', 'C', 'C', '(', 'C', '(', '=', 'O', ')', 'N', 'c', '3', 'c', 'c', 'c', '4', 'c', '(', 'c', '3', ')', 'O', 'C', 'O', '4', ')', 'C', 'C', '2', ')', 'c', 'c', '1', '&']\n\nLogD_change_(0.3, 0.5]Solubility_no_changeClint_no_changeCOCCOCc1cccc2nc(NC(=O)c3sc4c(C(C)=O)ccc(COC)c4c3C)ccc12\n['^', 'LogD_change_(0.3, 0.5]', 'Solubility_no_change', 'Clint_no_change', 'C', 'O', 'C', 'C', 'O', 'C', 'c', '1', 'c', 'c', 'c', 'c', '2', 'n', 'c', '(', 'N', 'C', '(', '=', 'O', ')', 'c', '3', 's', 'c', '4', 'c', '(', 'C', '(', 'C', ')', '=', 'O', ')', 'c', 'c', 'c', '(', 'C', 'O', 'C', ')', 'c', '4', 'c', '3', 'C', ')', 'c', 'c', 'c', '1', '2', '&']\n\n"
    }
   ],
   "source": [
    "for smi, tokens in zip(example_mol_opts, tokeniser.tokenise(example_mol_opts)[\"original_tokens\"]):\n",
    "    print(smi)\n",
    "    print(tokens)\n",
    "    print()"
   ]
  },
  {
   "cell_type": "code",
   "execution_count": 14,
   "metadata": {
    "tags": []
   },
   "outputs": [
    {
     "output_type": "stream",
     "name": "stdout",
     "text": "['O', '=', 'C', '(', 'N', 'C', 'c', '1', 'c', 'c', 'c', '(', 'O', 'C', '(', 'F', ')', '(', 'F', ')', 'F', ')', 'c', 'c', '1', ')', 'C', '1', 'C', 'C', '(', 'c', '2', 'c', '(', 'Cl', ')', 'c', 'c', 'c', 'c', '2', 'Cl', ')', '=', 'N', 'O', '1', '.', 'C', 'c', '1', 'o', 'n', 'c', '(', '-', 'c', '2', 'c', 'c', 'c', '(', 'Cl', ')', 'o', '2', ')', 'c', '1', '-', 'c', '1', 'c', 'c', 'c', 'c', 'c', '1', 'F']\n"
    }
   ],
   "source": [
    "smi = example_smiles[0] + \".\" + example_smiles[1]\n",
    "print(tokeniser.prog.findall(smi))"
   ]
  },
  {
   "cell_type": "code",
   "execution_count": null,
   "metadata": {},
   "outputs": [],
   "source": []
  }
 ],
 "metadata": {
  "language_info": {
   "codemirror_mode": {
    "name": "ipython",
    "version": 3
   },
   "file_extension": ".py",
   "mimetype": "text/x-python",
   "name": "python",
   "nbconvert_exporter": "python",
   "pygments_lexer": "ipython3",
   "version": 3
  },
  "orig_nbformat": 2,
  "kernelspec": {
   "name": "python_defaultSpec_1614078876525",
   "display_name": "Python 3.7.4 64-bit ('mol-enc': conda)"
  }
 },
 "nbformat": 4,
 "nbformat_minor": 2
}